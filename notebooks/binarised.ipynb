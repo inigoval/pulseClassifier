{
 "cells": [
  {
   "cell_type": "markdown",
   "metadata": {},
   "source": [
    "## Prioritizer Model\n",
    "\n",
    "Trained model for classification and prioritization for ALFABURST events based on the labelled feature set from  featureBuilder.ipynb.\n",
    "\n",
    "### Classifier model\n",
    "\n",
    "Probabalistic classifier using random forests.\n",
    "\n",
    "### Labels\n",
    "\n",
    "#### RFI\n",
    "\n",
    "* 1 : Unclipped RFI/Noise\n",
    "* 2 : Wide-band, long-duration in time clipped RFI (2016+)\n",
    "* 3 : Wide-band, short-duration in time clipped RFI (2016+)\n",
    "* 4 : Wide-band, short duration clipped RFI (2015)\n",
    "* 5 : Sharp bandpass transition\n",
    "* 6 : Wide-band, bursty clipped RFI (2015)\n",
    "* 7 : Error in spectra captue or replacement\n",
    "* 8 : Systematic int/float overflow\n",
    "\n",
    "#### Astronomical\n",
    "\n",
    "* 0 : Interesting, follow up\n",
    "* 9 : Known Pulsar"
   ]
  },
  {
   "cell_type": "markdown",
   "metadata": {},
   "source": [
    "### Classifier"
   ]
  },
  {
   "cell_type": "code",
   "execution_count": 1,
   "metadata": {
    "collapsed": true
   },
   "outputs": [],
   "source": [
    "import numpy as np\n",
    "import pandas as pd\n",
    "import matplotlib.pyplot as plt\n",
    "import seaborn as sns\n",
    "%matplotlib inline\n",
    "import sklearn.ensemble\n",
    "import sklearn.multiclass\n",
    "import sklearn.model_selection\n",
    "from sklearn.model_selection import GridSearchCV\n",
    "\n",
    "#Read in preprocessed numpy arrays:\n",
    "preProcFeats = np.load('./featuresold.npy')\n",
    "preProcFeatsbin = np.load('./redfeatbin.npy')\n",
    "preProcLabels = np.load('./processed.files/labelled/labelsnew.npy')\n",
    "preProcLabelsbin = np.copy(preProcLabels)\n",
    "preProcLabelsbin[preProcLabelsbin != 9] = 0\n",
    "preProcLabelsbin[preProcLabelsbin == 9] = 1\n",
    "\n",
    "#randstate = 200\n",
    "folds = 10"
   ]
  },
  {
   "cell_type": "markdown",
   "metadata": {},
   "source": [
    "## True pulses inspected vs total time series' inspected"
   ]
  },
  {
   "cell_type": "code",
   "execution_count": 2,
   "metadata": {
    "scrolled": true
   },
   "outputs": [
    {
     "name": "stdout",
     "output_type": "stream",
     "text": [
      "(1244,) (1244,)\n",
      "(1244,) (1244,)\n",
      "(1244,) (1244,)\n",
      "(1244,) (1244,)\n",
      "(1244,) (1244,)\n",
      "(1244,) (1244,)\n",
      "(1244,) (1244,)\n",
      "(1244,) (1244,)\n",
      "(1244,) (1244,)\n",
      "(1244,) (1244,)\n",
      "(10, 1244)\n",
      "(10, 1244)\n"
     ]
    }
   ],
   "source": [
    "clf = sklearn.multiclass.OneVsRestClassifier(estimator=sklearn.ensemble.RandomForestClassifier(bootstrap=True, \n",
    "            class_weight=None, criterion='gini', max_depth=None, max_features='auto', max_leaf_nodes=None,\n",
    "            min_impurity_decrease=0.0, min_impurity_split=None, min_samples_leaf=1, min_samples_split=2,\n",
    "            min_weight_fraction_leaf=0.0, n_estimators=80, n_jobs=-1,\n",
    "            oob_score=False, random_state=420, verbose=0, warm_start=False), n_jobs=1)\n",
    "\n",
    "clfbin = sklearn.multiclass.OneVsRestClassifier(estimator=sklearn.ensemble.RandomForestClassifier(bootstrap=True, \n",
    "            class_weight=None, criterion='gini', max_depth=None, max_features='auto', max_leaf_nodes=None,\n",
    "            min_impurity_decrease=0.0, min_impurity_split=None, min_samples_leaf=1, min_samples_split=2,\n",
    "            min_weight_fraction_leaf=0.0, n_estimators=80, n_jobs=-1,\n",
    "            oob_score=False, random_state=420, verbose=0, warm_start=False), n_jobs=1)\n",
    "\n",
    "\n",
    "split = sklearn.model_selection.StratifiedKFold(n_splits=folds).split(preProcFeats, preProcLabels)\n",
    "\n",
    "# Multiclass and binary must be in the same loop so that the splits are the same (weird functionality of the)\n",
    "# split attribute which does not return arrays as it should but a 'generator'\n",
    "count = 0\n",
    "\n",
    "# Loop over folds of train/test sets\n",
    "for train, test in split:\n",
    "    count += 1\n",
    "    X_train = preProcFeats[train]\n",
    "    X_test = preProcFeats[test]    \n",
    "    y_train = preProcLabels[train]\n",
    "    y_test = preProcLabels[test]\n",
    "    \n",
    "    X_trainbin = preProcFeatsbin[train]\n",
    "    X_testbin = preProcFeatsbin[test]    \n",
    "    y_trainbin = preProcLabelsbin[train]\n",
    "    y_testbin = preProcLabelsbin[test]\n",
    "        \n",
    "    # Record number of pulses in the set for later\n",
    "    npulses = np.argwhere(y_test==9).flatten().size\n",
    "    npulsesbin = np.argwhere(y_testbin==1).flatten().size\n",
    "    # Fit classifier\n",
    "    probs = clf.fit(X_train, y_train).predict_proba(X_test)\n",
    "    probsbin = clfbin.fit(X_trainbin, y_trainbin).predict_proba(X_testbin)\n",
    "        \n",
    "    # Add column for class label and sort by class 9 probability   \n",
    "    probs = np.c_[probs, y_test]\n",
    "    probs = probs[probs[:,7].argsort()][::-1]\n",
    "    probsbin = np.c_[probsbin, y_testbin]\n",
    "    probsbin = probsbin[probsbin[:,1].argsort()][::-1]\n",
    "    \n",
    "    # Define variables for later\n",
    "    detcount = 0\n",
    "    detections = np.zeros(probs.shape[0])\n",
    "    detcountbin = 0\n",
    "    detectionsbin = np.zeros(probs.shape[0])\n",
    "    \n",
    "    # Loop over rows in priority queue\n",
    "    for i in range(probs.shape[0]):\n",
    "        \n",
    "        # If the data point is class 9, mark a detection\n",
    "        if probs[i, 8] == 9:\n",
    "            detcount += 1\n",
    "            \n",
    "        # Record number of detections after each 'inspection' and class 9 probability of the candidate\n",
    "        detections[i] = detcount\n",
    "        \n",
    "    # Rescale to proportion of pulses found instead of absolute\n",
    "    detections = detections/npulses\n",
    "    \n",
    "    # Avoid error if folds are slightly the wrong size\n",
    "    if count > 2:\n",
    "        while detections.size < detectpct.shape[1]:\n",
    "            detections = np.append(detections, 1)\n",
    "    if count == 2:\n",
    "        while detections.size < detectpct.size:\n",
    "            detections = np.append(detections, 1)\n",
    "    \n",
    "    # Loop over rows in priority queue\n",
    "    for i in range(probsbin.shape[0]):\n",
    "        \n",
    "        # If the data point is class 9, mark a detection\n",
    "        if probsbin[i, 2] == 1:\n",
    "            detcountbin += 1\n",
    "            \n",
    "        # Record number of detections after each 'inspection' and class 9 probability of the candidate\n",
    "        detectionsbin[i] = detcountbin\n",
    "        \n",
    "    # Rescale to proportion of pulses found instead of absolute\n",
    "    detectionsbin = detectionsbin/npulsesbin\n",
    "    \n",
    "    # Avoid error if folds are slightly the wrong size\n",
    "    if count > 2:\n",
    "        while detectionsbin.size < detectpctbin.shape[1]:\n",
    "            detectionsbin = np.append(detectionsbin, 1)\n",
    "    if count == 2:\n",
    "        while detectionsbin.size < detectpctbin.size:\n",
    "            detectionsbin = np.append(detectionsbin, 1)\n",
    "\n",
    "    \n",
    "    print detections.shape, detectionsbin.shape\n",
    "        \n",
    "    # Stack recorded values for averaging\n",
    "    if count == 1:\n",
    "        detectpct = detections\n",
    "        detectpctbin = detectionsbin\n",
    "    else:\n",
    "        detectpct = np.vstack((detectpct, detections))\n",
    "        detectpctbin = np.vstack((detectpctbin, detectionsbin))\n",
    "        \n",
    "# Average over all folds\n",
    "print detectpct.shape\n",
    "detectpct = np.mean(detectpct, axis=0)\n",
    "print detectpctbin.shape\n",
    "detectpctbin = np.mean(detectpctbin, axis=0)"
   ]
  },
  {
   "cell_type": "code",
   "execution_count": 3,
   "metadata": {
    "collapsed": true,
    "scrolled": true
   },
   "outputs": [],
   "source": [
    "candidatepct = np.arange(detectpct.size)+1\n",
    "candidatepct = candidatepct.astype(float)\n",
    "\n",
    "candidatepct = candidatepct/candidatepct.size\n",
    "candidatepct = candidatepct.astype(float)"
   ]
  },
  {
   "cell_type": "code",
   "execution_count": 6,
   "metadata": {},
   "outputs": [
    {
     "data": {
      "image/png": "[encoded data removed]",
      "text/plain": [
       "<matplotlib.figure.Figure at 0x7f0dd785b090>"
      ]
     },
     "metadata": {},
     "output_type": "display_data"
    }
   ],
   "source": [
    "plt.figure(figsize=(10,7))\n",
    "plt.rc('font', size=10)          # controls default text sizes\n",
    "plt.rc('axes', titlesize=20)     # fontsize of the axes title\n",
    "plt.rc('axes', labelsize=20)    # fontsize of the x and y labels\n",
    "plt.rc('xtick', labelsize=20)    # fontsize of the tick labels\n",
    "plt.rc('ytick', labelsize=20)    # fontsize of the tick labels\n",
    "plt.rc('legend', fontsize=20)    # legend fontsize\n",
    "plt.rc('figure', titlesize=20)  # fontsize of the figure title\n",
    "plt.xlabel(r'Proportion of time series viewed $\\approx$ 1 - P(class9)')\n",
    "plt.ylabel('Proportion of pulsars detected')\n",
    "plt.plot(candidatepct, detectpctbin-detectpct,  label = 'difference')\n",
    "plt.grid()\n",
    "plt.xlim(0,1)\n",
    "plt.legend()\n",
    "plt.tight_layout()\n",
    "plt.savefig('graphs/detectiondiff.png')\n",
    "plt.show()"
   ]
  },
  {
   "cell_type": "code",
   "execution_count": 22,
   "metadata": {},
   "outputs": [],
   "source": [
    "avg = np.array([])\n",
    "\n",
    "split = sklearn.model_selection.StratifiedKFold(n_splits=folds).split(preProcFeatsbin, preProcLabelsbin)\n",
    "\n",
    "for train, test in split:\n",
    "    X_trainbin = preProcFeats[train]\n",
    "    X_testbin = preProcFeats[test]    \n",
    "    y_trainbin = preProcLabels[train]\n",
    "    y_testbin = preProcLabels[test]\n",
    "\n",
    "    probsbin = clfbin.fit(X_trainbin, y_trainbin).predict_proba(X_testbin)\n",
    "    pulseargs = np.argwhere(y_testbin ==9).flatten()\n",
    "\n",
    "    pulseprobs = np.hsplit(probsbin,8)[7]\n",
    "    pulseprobs = pulseprobs[pulseargs]\n",
    "    avg = np.append(avg, np.sum(pulseprobs)/pulseprobs.size)\n",
    "    "
   ]
  },
  {
   "cell_type": "code",
   "execution_count": 25,
   "metadata": {},
   "outputs": [
    {
     "name": "stdout",
     "output_type": "stream",
     "text": [
      "[ 0.60328154  0.84556042  0.99198612  0.74128633  0.97441064  0.73038776\n",
      "  0.78747931  0.96817748  0.82468722  0.91008155]\n",
      "0.837733835318\n",
      "1.59955339454\n"
     ]
    }
   ],
   "source": [
    "print avg\n",
    "print np.mean(avg)\n",
    "print 1.34/np.mean(avg)"
   ]
  },
  {
   "cell_type": "code",
   "execution_count": null,
   "metadata": {
    "collapsed": true
   },
   "outputs": [],
   "source": [
    "0."
   ]
  }
 ],
 "metadata": {
  "kernelspec": {
   "display_name": "Python 2",
   "language": "python",
   "name": "python2"
  },
  "language_info": {
   "codemirror_mode": {
    "name": "ipython",
    "version": 2
   },
   "file_extension": ".py",
   "mimetype": "text/x-python",
   "name": "python",
   "nbconvert_exporter": "python",
   "pygments_lexer": "ipython2",
   "version": "2.7.13"
  }
 },
 "nbformat": 4,
 "nbformat_minor": 2
}
