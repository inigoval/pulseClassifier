{
 "cells": [
  {
   "cell_type": "markdown",
   "metadata": {},
   "source": [
    "## Prioritizer Model\n",
    "\n",
    "Trained model for classification and prioritization for ALFABURST events based on the labelled feature set from  featureBuilder.ipynb.\n",
    "\n",
    "### Classifier model\n",
    "\n",
    "Probabalistic classifier using random forests.\n",
    "\n",
    "### Labels\n",
    "\n",
    "#### RFI\n",
    "\n",
    "* 1 : Unclipped RFI/Noise\n",
    "* 2 : Wide-band, long-duration in time clipped RFI (2016+)\n",
    "* 3 : Wide-band, short-duration in time clipped RFI (2016+)\n",
    "* 4 : Wide-band, short duration clipped RFI (2015)\n",
    "* 5 : Sharp bandpass transition\n",
    "* 6 : Wide-band, bursty clipped RFI (2015)\n",
    "* 7 : Error in spectra captue or replacement\n",
    "* 8 : Systematic int/float overflow\n",
    "\n",
    "#### Astronomical\n",
    "\n",
    "* 0 : Interesting, follow up\n",
    "* 9 : Known Pulsar"
   ]
  },
  {
   "cell_type": "markdown",
   "metadata": {},
   "source": [
    "### Classifier"
   ]
  },
  {
   "cell_type": "code",
   "execution_count": 19,
   "metadata": {
    "collapsed": true
   },
   "outputs": [],
   "source": [
    "import numpy as np\n",
    "import pandas as pd\n",
    "import matplotlib.pyplot as plt\n",
    "import seaborn as sns\n",
    "%matplotlib inline\n",
    "import sklearn.ensemble\n",
    "import sklearn.multiclass\n",
    "import sklearn.model_selection\n",
    "from sklearn.model_selection import GridSearchCV\n",
    "\n",
    "#Read in preprocessed dataframes:\n",
    "featureDf = pd.read_pickle('./processed.files/labelled/featureDfnew')\n",
    "labelledDf = pd.read_pickle('./processed.files/labelled/labelledDfnew')\n",
    "\n",
    "#Read in preprocessed numpy arrays:\n",
    "preProcFeats = np.load('./redfeatnew.npy')\n",
    "preProcLabels = np.load('./processed.files/labelled/labelsnew.npy')"
   ]
  },
  {
   "cell_type": "code",
   "execution_count": 20,
   "metadata": {
    "collapsed": true
   },
   "outputs": [],
   "source": [
    "k_fold = sklearn.model_selection.StratifiedKFold(n_splits=10, shuffle=True)"
   ]
  },
  {
   "cell_type": "code",
   "execution_count": 21,
   "metadata": {
    "collapsed": true
   },
   "outputs": [],
   "source": [
    "randForest = sklearn.multiclass.OneVsRestClassifier(sklearn.ensemble.RandomForestClassifier())\n",
    "\n",
    "clf = sklearn.multiclass.OneVsRestClassifier(estimator=sklearn.ensemble.RandomForestClassifier(bootstrap=True, \n",
    "            class_weight=None, criterion='gini',\n",
    "            max_depth=None, max_features='auto', max_leaf_nodes=None,\n",
    "            min_impurity_decrease=0.0, min_impurity_split=None,\n",
    "            min_samples_leaf=1, min_samples_split=2,\n",
    "            min_weight_fraction_leaf=0.0, n_estimators=80, n_jobs=-1,\n",
    "            oob_score=False, random_state=420, verbose=0,\n",
    "            warm_start=False),\n",
    "            n_jobs=1)\n",
    "\n",
    "#param_grid = {'estimator__n_estimators': [10, 20, 40, 80], 'estimator__max_features': [100, 400, 1600, 6400]}\n",
    "\n",
    "# clf = sklearn.model_selection.GridSearchCV(randForest, param_grid=param_grid, scoring='neg_log_loss',\\\n",
    "#                                            cv=k_fold, n_jobs=-1)\n",
    "\n",
    "# clf.fit(preProcFeats, preProcLabels) #fits data to already labelled set and finds best parameters for fitting\n",
    "# #print clf.cv_results_\n",
    "# print clf.best_score_                     \n",
    "# print clf.best_estimator_\n",
    "#clf.best_estimator is my randforest classifier that has had it's hyperparamaters tuned by gridsearched\n"
   ]
  },
  {
   "cell_type": "code",
   "execution_count": 22,
   "metadata": {},
   "outputs": [
    {
     "name": "stdout",
     "output_type": "stream",
     "text": [
      "-0.553811776074\n",
      "[[   5    8    7    0    1    1    1    0]\n",
      " [   3 1037   17    0   11   14    2    2]\n",
      " [   1   44  204    3   10   81    1    0]\n",
      " [   0    1    6   12    4   55    0    0]\n",
      " [   1    6   10    2   73   27    0    1]\n",
      " [   0    5    9    7   13  763    0    5]\n",
      " [   1    2    0    0    0    2  412    1]\n",
      " [   0    4    3    1    0    5    0  216]]\n"
     ]
    }
   ],
   "source": [
    "print np.mean(sklearn.model_selection.cross_val_score(clf, preProcFeats, preProcLabels,\\\n",
    "                                              cv=k_fold, n_jobs=-1, scoring='neg_log_loss'))\n",
    "\n",
    "\n",
    "# Train/Test Validation\n",
    "X_train, X_test, y_train, y_test = sklearn.model_selection.train_test_split(preProcFeats,\\\n",
    "                                                            preProcLabels, test_size=0.25, random_state=420) #one quarter of data used for testing\n",
    "predictTestX = clf.fit(X_train, y_train).predict_proba(X_test) #return an array of predicted values\n",
    "score = sklearn.metrics.log_loss(y_test, predictTestX)\n",
    "confuseMatrix = sklearn.metrics.confusion_matrix(y_test, clf.fit(X_train, y_train).predict(X_test))\n",
    "print confuseMatrix"
   ]
  },
  {
   "cell_type": "code",
   "execution_count": 23,
   "metadata": {
    "scrolled": true
   },
   "outputs": [
    {
     "name": "stdout",
     "output_type": "stream",
     "text": [
      "(8, 8)\n"
     ]
    },
    {
     "data": {
      "image/png": "[encoded data removed]",
      "text/plain": [
       "<matplotlib.figure.Figure at 0x7f4f43b9ced0>"
      ]
     },
     "metadata": {},
     "output_type": "display_data"
    }
   ],
   "source": [
    "\n",
    "classLabels = ['1', '2', '3', '4', '5', '6', '7', '9']\n",
    "\n",
    "print confuseMatrix.shape\n",
    "normConfuseMatrix = np.zeros(confuseMatrix.shape)\n",
    "for col in np.arange(confuseMatrix.shape[1]):\n",
    "    normConfuseMatrix[:,col] = confuseMatrix[:,col] / float(confuseMatrix[:,col].max())\n",
    "\n",
    "#turn the matrix into a dataframe    \n",
    "#dfCM = pd.DataFrame(normConfuseMatrix, index = [i for i in classLabels], columns = [i for i in classLabels])\n",
    "dfCM = pd.DataFrame(confuseMatrix, index = [i for i in classLabels], columns = [i for i in classLabels])\n",
    "\n",
    "#plot the confusion matrix visually using a heatmap\n",
    "colormap = plt.cm.cubehelix_r\n",
    "fig = plt.figure(figsize=(5,5)) # (width, height)\n",
    "sns.heatmap(dfCM, annot=True, vmin = 0, vmax = 100, fmt='d', cbar=False, cmap = colormap)\n",
    "#sns.heatmap(dfCM, annot=True, cbar=False)\n",
    "plt.xlabel('Predicted Label ID')\n",
    "plt.ylabel('True Label ID')\n",
    "plt.title('Confusion Matrix (%d features)'%(preProcFeats.shape[1]))\n",
    "\n",
    "plt.tight_layout()\n",
    "plt.savefig('confusion_matrix.png')"
   ]
  },
  {
   "cell_type": "code",
   "execution_count": 24,
   "metadata": {
    "collapsed": true
   },
   "outputs": [],
   "source": [
    "#Binarise labels:\n",
    "preProcLabels[preProcLabels != 9] = 0\n",
    "preProcLabels[preProcLabels == 9] = 1"
   ]
  },
  {
   "cell_type": "code",
   "execution_count": 25,
   "metadata": {},
   "outputs": [
    {
     "name": "stdout",
     "output_type": "stream",
     "text": [
      "-0.060646544208\n"
     ]
    }
   ],
   "source": [
    "print np.mean(sklearn.model_selection.cross_val_score(clf, preProcFeats, preProcLabels,\\\n",
    "                                              cv=k_fold, n_jobs=-1, scoring='neg_log_loss'))\n",
    "\n",
    "\n",
    "# Train/Test Validation\n",
    "X_train, X_test, y_train, y_test = sklearn.model_selection.train_test_split(preProcFeats,\\\n",
    "                                                            preProcLabels, test_size=0.25, random_state=420) #one quarter of data used for testing\n",
    "predictTestX = clf.fit(X_train, y_train).predict_proba(X_test) #return an array of predicted values"
   ]
  },
  {
   "cell_type": "code",
   "execution_count": 26,
   "metadata": {},
   "outputs": [
    {
     "name": "stdout",
     "output_type": "stream",
     "text": [
      "(3100, 1)\n"
     ]
    }
   ],
   "source": [
    "# Set positive detection probability as 0.99 based on ROC graph\n",
    "neg, pos = np.hsplit(predictTestX, 2)\n",
    "print neg.shape\n",
    "idx = pos[pos < 0.99].astype(int)\n",
    "pos[idx] = 0\n",
    "neg[idx] = 1\n",
    "\n",
    "predictTestX = np.hstack((neg, pos))"
   ]
  },
  {
   "cell_type": "code",
   "execution_count": 27,
   "metadata": {},
   "outputs": [],
   "source": [
    "confuseMatrix = sklearn.metrics.confusion_matrix(y_test, clf.fit(X_train, y_train).predict(X_test))"
   ]
  },
  {
   "cell_type": "code",
   "execution_count": 28,
   "metadata": {
    "scrolled": true
   },
   "outputs": [
    {
     "name": "stdout",
     "output_type": "stream",
     "text": [
      "(2, 2)\n"
     ]
    },
    {
     "data": {
      "image/png": "[encoded data removed]",
      "text/plain": [
       "<matplotlib.figure.Figure at 0x7f4f43a67a10>"
      ]
     },
     "metadata": {},
     "output_type": "display_data"
    }
   ],
   "source": [
    "classLabels = ['Not pulse', 'Pulse']\n",
    "\n",
    "print confuseMatrix.shape\n",
    "normConfuseMatrix = np.zeros(confuseMatrix.shape)\n",
    "for col in np.arange(confuseMatrix.shape[1]):\n",
    "    normConfuseMatrix[:,col] = confuseMatrix[:,col] / float(confuseMatrix[:,col].max())\n",
    "\n",
    "#turn the matrix into a dataframe    \n",
    "#dfCM = pd.DataFrame(normConfuseMatrix, index = [i for i in classLabels], columns = [i for i in classLabels])\n",
    "dfCM = pd.DataFrame(confuseMatrix, index = [i for i in classLabels], columns = [i for i in classLabels])\n",
    "\n",
    "#plot the confusion matrix visually using a heatmap\n",
    "colormap = plt.cm.cubehelix_r\n",
    "fig = plt.figure(figsize=(5,5)) # (width, height)\n",
    "sns.heatmap(dfCM, annot=True, vmin = 0, vmax = 100, fmt='d', cbar=False, cmap = colormap)\n",
    "#sns.heatmap(dfCM, annot=True, cbar=False)\n",
    "plt.xlabel('Predicted Label ID')\n",
    "plt.ylabel('True Label ID')\n",
    "plt.title('Confusion Matrix (%d features)'%(preProcFeats.shape[1]))\n",
    "\n",
    "plt.tight_layout()\n",
    "plt.savefig('confusion_matrix.png')"
   ]
  }
 ],
 "metadata": {
  "kernelspec": {
   "display_name": "Python 2",
   "language": "python",
   "name": "python2"
  },
  "language_info": {
   "codemirror_mode": {
    "name": "ipython",
    "version": 2
   },
   "file_extension": ".py",
   "mimetype": "text/x-python",
   "name": "python",
   "nbconvert_exporter": "python",
   "pygments_lexer": "ipython2",
   "version": "2.7.13"
  }
 },
 "nbformat": 4,
 "nbformat_minor": 2
}
