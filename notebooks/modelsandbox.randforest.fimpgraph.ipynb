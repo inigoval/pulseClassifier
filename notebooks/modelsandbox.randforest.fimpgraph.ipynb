{
 "cells": [
  {
   "cell_type": "markdown",
   "metadata": {},
   "source": [
    "## Feature Varying Graph\n",
    "\n",
    "Plots important values as a function of feature number."
   ]
  },
  {
   "cell_type": "markdown",
   "metadata": {},
   "source": [
    "#### Import packages and read in pre-processed dataframes/arrays"
   ]
  },
  {
   "cell_type": "code",
   "execution_count": 2,
   "metadata": {},
   "outputs": [
    {
     "name": "stdout",
     "output_type": "stream",
     "text": [
      "[]\n",
      "[]\n"
     ]
    }
   ],
   "source": [
    "import sklearn.ensemble\n",
    "import sklearn.multiclass\n",
    "import sklearn.model_selection\n",
    "import numpy as np\n",
    "import pandas as pd\n",
    "import matplotlib.pyplot as plt\n",
    "%matplotlib inline\n",
    "\n",
    "#Read in preprocessed dataframes:\n",
    "featureDf = pd.read_pickle('./processed.files/labelled/featureDf')\n",
    "labelledDf = pd.read_pickle('./processed.files/labelled/labelledDf')\n",
    "\n",
    "#Read in preprocessed numpy arrays:\n",
    "preProcFeats = np.load('./processed.files/labelled/features.npy')\n",
    "preProcLabels = np.load('./processed.files/labelled/labels.npy')\n",
    "\n",
    "print np.argwhere(np.isnan(preProcFeats))\n",
    "print np.argwhere(np.isfinite(preProcFeats) != True)"
   ]
  },
  {
   "cell_type": "code",
   "execution_count": 47,
   "metadata": {
    "scrolled": false
   },
   "outputs": [
    {
     "name": "stdout",
     "output_type": "stream",
     "text": [
      "399\n"
     ]
    },
    {
     "data": {
      "image/png": "[encoded data removed]",
      "text/plain": [
       "<matplotlib.figure.Figure at 0x7f149907c5d0>"
      ]
     },
     "metadata": {},
     "output_type": "display_data"
    }
   ],
   "source": [
    "from sklearn.feature_selection import RFECV\n",
    "from sklearn.datasets import make_classification\n",
    "\n",
    "rfe = RFECV(estimator=estimator, step=1, cv=k_fold, scoring='neg_log_loss')\n",
    "rfe.fit(preProcFeats, preProcLabels)"
   ]
  },
  {
   "cell_type": "code",
   "execution_count": null,
   "metadata": {
    "collapsed": true
   },
   "outputs": [],
   "source": [
    "plt.figure()\n",
    "plt.xlabel(\"Number of features selected\")\n",
    "plt.ylabel(\"Cross- validation negative log-loss\")\n",
    "plt.plot(range(1, len(rfe.grid_scores_) + 1), rfe.grid_scores_)\n",
    "plt.savefig('feature.importance.graphs/cvold.png')\n",
    "plt.show()"
   ]
  },
  {
   "cell_type": "code",
   "execution_count": 48,
   "metadata": {},
   "outputs": [
    {
     "name": "stdout",
     "output_type": "stream",
     "text": [
      "[  0   1   2   4   5   6   7   8  10  11  12  15  18  20  21  22  24  31\n",
      "  32  35  41  42  58 205 206 217 222 262 290 294 298 306 310 318 322 326\n",
      " 330 331 333 334 337 338 339 341 350 369 377 385 391 396]\n",
      "['MJDstart' 'bestDM' 'bestSNR' 'Events' 'DMmax' 'DMmin' 'DMmean' 'DMmedian'\n",
      " 'SNRmean' 'SNRmedian' 'SNRstd' 'pctZeroDeriv' 'longestRun0' 'longestRun2'\n",
      " 'globtsStatsStd' 'globtsStatsMax' 'globtsStatsMin' 'globtsStatsMean'\n",
      " 'globDedisptsStatsStd' 'globDedisptsStatsMin' 'globDedisptsStatsRatio1'\n",
      " 'globDedisptsStatsMean' 'windTimeStatsStd15' 'pixelsMax02' 'pixelsMax03'\n",
      " 'pixelsMax32' 'pixelsMax43' 'pixelsMax143' 'pixelsMin53' 'pixelsMin63'\n",
      " 'pixelsMin73' 'pixelsMin93' 'pixelsMin103' 'pixelsMin123' 'pixelsMin133'\n",
      " 'pixelsMin143' 'pixelsMin153' 'pixelsMean00' 'pixelsMean02' 'pixelsMean03'\n",
      " 'pixelsMean12' 'pixelsMean13' 'pixelsMean20' 'pixelsMean22' 'pixelsMean43'\n",
      " 'pixelsMean92' 'pixelsMean112' 'pixelsMean132' 'pixelsMean150' 'relMJDmax']\n"
     ]
    }
   ],
   "source": [
    "featidx = rfe.get_support(indices=True)\n",
    "print featidx\n",
    "featureStrs = featureDf.columns.values\n",
    "print featureStrs[featidx]"
   ]
  },
  {
   "cell_type": "code",
   "execution_count": 15,
   "metadata": {},
   "outputs": [
    {
     "name": "stdout",
     "output_type": "stream",
     "text": [
      "(13419, 399)\n",
      "(13419, 50)\n",
      "-0.225961629219\n"
     ]
    }
   ],
   "source": [
    "featidx = [0,1,2,4,5,6,7,8,10,11,12,15,18,20,21,22,24,31,32,35,41,42,58,205,206,217,222,262,290,294,298,306,31,318,322,326,330,331,333,334,337,338,339,341,350,369,377,385,391,396]\n",
    "\n",
    "print preProcFeats.shape\n",
    "redfeat = preProcFeats[:, featidx]\n",
    "print redfeat.shape\n",
    "\n",
    "k_fold = sklearn.model_selection.StratifiedKFold(n_splits=6, shuffle=True)\n",
    "\n",
    "estimator = sklearn.ensemble.RandomForestClassifier(bootstrap=True, \n",
    "            class_weight=None, criterion='gini',\n",
    "            max_depth=None, max_features='auto', max_leaf_nodes=None,\n",
    "            min_impurity_decrease=0.0, min_impurity_split=None,\n",
    "            min_samples_leaf=1, min_samples_split=2,\n",
    "            min_weight_fraction_leaf=0.0, n_estimators=80, n_jobs=-1,\n",
    "            oob_score=False, random_state=420, verbose=0,\n",
    "            warm_start=False)\n",
    "\n",
    "clf = sklearn.multiclass.OneVsRestClassifier(estimator,\n",
    "            n_jobs=1)\n",
    "\n",
    "print np.mean(sklearn.model_selection.cross_val_score(clf, redfeat, preProcLabels,\\\n",
    "                                            cv=k_fold, n_jobs=-1, scoring='neg_log_loss'))"
   ]
  }
 ],
 "metadata": {
  "kernelspec": {
   "display_name": "Python 2",
   "language": "python",
   "name": "python2"
  },
  "language_info": {
   "codemirror_mode": {
    "name": "ipython",
    "version": 2
   },
   "file_extension": ".py",
   "mimetype": "text/x-python",
   "name": "python",
   "nbconvert_exporter": "python",
   "pygments_lexer": "ipython2",
   "version": "2.7.13"
  }
 },
 "nbformat": 4,
 "nbformat_minor": 2
}
