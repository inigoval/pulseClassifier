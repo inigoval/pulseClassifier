{
 "cells": [
  {
   "cell_type": "markdown",
   "metadata": {},
   "source": [
    "## Feature Varying Graph\n",
    "\n",
    "Plots important values as a function of feature number."
   ]
  },
  {
   "cell_type": "markdown",
   "metadata": {},
   "source": [
    "#### Import packages and read in pre-processed dataframes/arrays"
   ]
  },
  {
   "cell_type": "code",
   "execution_count": 1,
   "metadata": {
    "collapsed": true
   },
   "outputs": [],
   "source": [
    "import sklearn.ensemble\n",
    "import sklearn.multiclass\n",
    "import sklearn.model_selection\n",
    "import numpy as np\n",
    "import pandas as pd\n",
    "import matplotlib.pyplot as plt\n",
    "%matplotlib inline\n",
    "\n",
    "#Read in preprocessed dataframes:\n",
    "featuredf = pd.read_pickle('./processed.files/labelled/featureDfnew')\n",
    "labelledDf = pd.read_pickle('./processed.files/labelled/labelledDfnew')\n",
    "\n",
    "#Read in preprocessed numpy arrays:\n",
    "preProcFeats = np.load('./processed.files/labelled/featuresnew.npy')\n",
    "preProcLabels = np.load('./processed.files/labelled/labelsnew.npy')"
   ]
  },
  {
   "cell_type": "code",
   "execution_count": null,
   "metadata": {
    "collapsed": true
   },
   "outputs": [],
   "source": [
    "#delcol = featureDf.columns.str.startswith('pixelM')\n",
    "#featureDf.drop(columns = delcol, inplace=True)\n",
    "# featureDf.drop(list(featureDf.filter(regex = 'pixelM')), axis = 1, inplace = True)\n",
    "# preProcFeats = featureDf.values.astype('float32')\n",
    "# print np.argwhere(np.isfinite(preProcFeats) != True)"
   ]
  },
  {
   "cell_type": "markdown",
   "metadata": {},
   "source": [
    "## New"
   ]
  },
  {
   "cell_type": "code",
   "execution_count": null,
   "metadata": {},
   "outputs": [
    {
     "name": "stdout",
     "output_type": "stream",
     "text": [
      "481\n"
     ]
    }
   ],
   "source": [
    "from sklearn.feature_selection import RFECV\n",
    "from sklearn.datasets import make_classification\n",
    "print preProcFeats.shape[1]\n",
    "k_fold = sklearn.model_selection.StratifiedKFold(n_splits=3, shuffle=True)\n",
    "\n",
    "estimator = sklearn.ensemble.RandomForestClassifier(bootstrap=True, \n",
    "            class_weight=None, criterion='gini',\n",
    "            max_depth=None, max_features='auto', max_leaf_nodes=None,\n",
    "            min_impurity_decrease=0.0, min_impurity_split=None,\n",
    "            min_samples_leaf=1, min_samples_split=2,\n",
    "            min_weight_fraction_leaf=0.0, n_estimators=80, n_jobs=-1,\n",
    "            oob_score=False, random_state=420, verbose=0,\n",
    "            warm_start=False)\n",
    "\n",
    "\n",
    "rfe = RFECV(estimator=estimator, step=1, cv=k_fold, scoring='neg_log_loss')\n",
    "rfe.fit(preProcFeats, preProcLabels)\n",
    "ranked1 = rfe.ranking_\n",
    "\n",
    "print preProcFeats.shape\n",
    "print rfe.ranking_"
   ]
  },
  {
   "cell_type": "code",
   "execution_count": null,
   "metadata": {
    "collapsed": true
   },
   "outputs": [],
   "source": [
    "cvscores1 = rfe.grid_scores_\n",
    "feats1 = range(1, len(cvscores1) + 1)\n",
    "\n",
    "plt.figure()\n",
    "plt.xlabel('Number of features')\n",
    "plt.ylabel('Cross- validation negative log-loss')\n",
    "plt.plot(feats1, cvscores1)\n",
    "#plt.savefig('feature.importance.graphs/cv.png')\n",
    "plt.show()"
   ]
  },
  {
   "cell_type": "code",
   "execution_count": null,
   "metadata": {
    "collapsed": true
   },
   "outputs": [],
   "source": [
    "featidx1 = rfe.get_support(indices=True)\n",
    "featureStrs = featuredf.columns.values\n",
    "#print featureStrs[featidx]"
   ]
  },
  {
   "cell_type": "code",
   "execution_count": null,
   "metadata": {
    "collapsed": true
   },
   "outputs": [],
   "source": [
    "print preProcFeats.shape\n",
    "redfeat1 = preProcFeats[:, featidx1]\n",
    "print redfeat1.shape\n",
    "\n",
    "np.save('./redfeatnew', redfeat)\n",
    "\n",
    "clf = sklearn.multiclass.OneVsRestClassifier(estimator,\n",
    "            n_jobs=1)\n",
    "\n",
    "print np.mean(sklearn.model_selection.cross_val_score(clf, redfeat, preProcLabels,\\\n",
    "                                            cv=k_fold, n_jobs=-1, scoring='neg_log_loss'))"
   ]
  },
  {
   "cell_type": "markdown",
   "metadata": {},
   "source": [
    "## Old"
   ]
  },
  {
   "cell_type": "code",
   "execution_count": null,
   "metadata": {
    "collapsed": true
   },
   "outputs": [],
   "source": [
    "preProcFeats = np.load('./processed.files/labelled/featuresold.npy')\n",
    "preProcLabels = np.load('./processed.files/labelled/labelsold.npy')"
   ]
  },
  {
   "cell_type": "code",
   "execution_count": null,
   "metadata": {},
   "outputs": [
    {
     "name": "stdout",
     "output_type": "stream",
     "text": [
      "432\n"
     ]
    }
   ],
   "source": [
    "from sklearn.feature_selection import RFECV\n",
    "from sklearn.datasets import make_classification\n",
    "print preProcFeats.shape[1]\n",
    "\n",
    "rfe = RFECV(estimator=estimator, step=1, cv=k_fold, scoring='neg_log_loss')\n",
    "rfe.fit(preProcFeats, preProcLabels)\n",
    "\n",
    "ranked2 = rfe.ranking_\n",
    "\n",
    "print preProcFeats.shape"
   ]
  },
  {
   "cell_type": "code",
   "execution_count": null,
   "metadata": {
    "collapsed": true
   },
   "outputs": [],
   "source": [
    "cvscores2 = rfe.grid_scores_\n",
    "feats2 = range(1, len(cvscores2) + 1)\n",
    "\n",
    "plt.figure()\n",
    "plt.xlabel('Number of features')\n",
    "plt.ylabel('Cross- validation negative log-loss')\n",
    "plt.plot(feats2, cvscores2)\n",
    "#plt.savefig('feature.importance.graphs/cv.png')\n",
    "plt.show()"
   ]
  },
  {
   "cell_type": "code",
   "execution_count": null,
   "metadata": {
    "collapsed": true
   },
   "outputs": [],
   "source": [
    "featidx2 = rfe.get_support(indices=True)\n",
    "#featureStrs = featuredf.columns.values\n",
    "#print featureStrs[featidx]"
   ]
  },
  {
   "cell_type": "code",
   "execution_count": null,
   "metadata": {
    "collapsed": true
   },
   "outputs": [],
   "source": [
    "print preProcFeats.shape\n",
    "redfeat2 = preProcFeats[:, featidx2]\n",
    "print redfeat2.shape\n",
    "\n",
    "np.save('./redfeatold', redfeat)\n",
    "\n",
    "clf = sklearn.multiclass.OneVsRestClassifier(estimator,\n",
    "            n_jobs=1)\n",
    "\n",
    "print np.mean(sklearn.model_selection.cross_val_score(clf, redfeat, preProcLabels,\\\n",
    "                                            cv=k_fold, n_jobs=-1, scoring='neg_log_loss'))"
   ]
  },
  {
   "cell_type": "markdown",
   "metadata": {},
   "source": [
    "## Binarised new"
   ]
  },
  {
   "cell_type": "code",
   "execution_count": null,
   "metadata": {
    "collapsed": true
   },
   "outputs": [],
   "source": [
    "preProcFeats = np.load('./processed.files/labelled/featuresnew.npy')\n",
    "preProcLabels = np.load('./processed.files/labelled/labelsnew.npy')\n",
    "\n",
    "print preProcLabels\n",
    "\n",
    "preProcLabels[preProcLabels != 9] = 0\n",
    "preProcLabels[preProcLabels == 9] = 1"
   ]
  },
  {
   "cell_type": "code",
   "execution_count": null,
   "metadata": {
    "collapsed": true
   },
   "outputs": [],
   "source": [
    "from sklearn.feature_selection import RFECV\n",
    "from sklearn.datasets import make_classification\n",
    "print preProcFeats.shape[1]\n",
    "\n",
    "rfe = RFECV(estimator=estimator, step=1, cv=k_fold, scoring='neg_log_loss')\n",
    "rfe.fit(preProcFeats, preProcLabels)\n",
    "\n",
    "ranked2 = rfe.ranking_\n",
    "\n",
    "print preProcFeats.shape"
   ]
  },
  {
   "cell_type": "code",
   "execution_count": null,
   "metadata": {
    "collapsed": true
   },
   "outputs": [],
   "source": [
    "cvscores3 = rfe.grid_scores_\n",
    "feats3 = range(1, len(cvscores3) + 1)\n",
    "\n",
    "plt.figure()\n",
    "plt.xlabel('Number of features')\n",
    "plt.ylabel('Cross- validation negative log-loss')\n",
    "plt.plot(feats3, cvscores3)\n",
    "#plt.savefig('feature.importance.graphs/cv.png')\n",
    "plt.show()"
   ]
  },
  {
   "cell_type": "code",
   "execution_count": null,
   "metadata": {
    "collapsed": true
   },
   "outputs": [],
   "source": [
    "featidx3 = rfe.get_support(indices=True)\n",
    "#featureStrs = featuredf.columns.values\n",
    "#print featureStrs[featidx]"
   ]
  },
  {
   "cell_type": "code",
   "execution_count": null,
   "metadata": {
    "collapsed": true,
    "scrolled": true
   },
   "outputs": [],
   "source": [
    "print preProcFeats.shape\n",
    "redfeat3 = preProcFeats[:, featidx3]\n",
    "print redfeat3.shape\n",
    "\n",
    "np.save('./redfeatbin', redfeat3)\n",
    "\n",
    "clf = sklearn.ensemble.RandomForestClassifier(bootstrap=True, \n",
    "            class_weight=None, criterion='gini',\n",
    "            max_depth=None, max_features='auto', max_leaf_nodes=None,\n",
    "            min_impurity_decrease=0.0, min_impurity_split=None,\n",
    "            min_samples_leaf=1, min_samples_split=2,\n",
    "            min_weight_fraction_leaf=0.0, n_estimators=80, n_jobs=-1,\n",
    "            oob_score=False, random_state=420, verbose=0,\n",
    "            warm_start=False)\n",
    "\n",
    "print np.mean(sklearn.model_selection.cross_val_score(clf, redfeat, preProcLabels,\\\n",
    "                                            cv=k_fold, n_jobs=-1, scoring='neg_log_loss'))"
   ]
  },
  {
   "cell_type": "markdown",
   "metadata": {},
   "source": [
    "## Binarised old"
   ]
  },
  {
   "cell_type": "code",
   "execution_count": 18,
   "metadata": {},
   "outputs": [
    {
     "name": "stdout",
     "output_type": "stream",
     "text": [
      "[1 2 5 ..., 5 2 6]\n"
     ]
    }
   ],
   "source": [
    "preProcFeats = np.load('./processed.files/labelled/featuresnew.npy')\n",
    "preProcLabels = np.load('./processed.files/labelled/labelsnew.npy')\n",
    "\n",
    "print preProcLabels\n",
    "\n",
    "preProcLabels[preProcLabels != 9] = 0\n",
    "preProcLabels[preProcLabels == 9] = 1"
   ]
  },
  {
   "cell_type": "code",
   "execution_count": 21,
   "metadata": {},
   "outputs": [
    {
     "name": "stdout",
     "output_type": "stream",
     "text": [
      "481\n",
      "(12398, 481)\n"
     ]
    }
   ],
   "source": [
    "from sklearn.feature_selection import RFECV\n",
    "from sklearn.datasets import make_classification\n",
    "print preProcFeats.shape[1]\n",
    "\n",
    "rfe = RFECV(estimator=estimator, step=1, cv=k_fold, scoring='neg_log_loss')\n",
    "rfe.fit(preProcFeats, preProcLabels)\n",
    "\n",
    "ranked2 = rfe.ranking_\n",
    "\n",
    "print preProcFeats.shape"
   ]
  },
  {
   "cell_type": "code",
   "execution_count": 22,
   "metadata": {},
   "outputs": [
    {
     "data": {
      "image/png": "[encoded data removed]",
      "text/plain": [
       "<matplotlib.figure.Figure at 0x7f02b9ba54d0>"
      ]
     },
     "metadata": {},
     "output_type": "display_data"
    }
   ],
   "source": [
    "cvscores3 = rfe.grid_scores_\n",
    "feats3 = range(1, len(cvscores3) + 1)\n",
    "\n",
    "plt.figure()\n",
    "plt.xlabel('Number of features')\n",
    "plt.ylabel('Cross- validation negative log-loss')\n",
    "plt.plot(feats3, cvscores3)\n",
    "#plt.savefig('feature.importance.graphs/cv.png')\n",
    "plt.show()"
   ]
  },
  {
   "cell_type": "code",
   "execution_count": 23,
   "metadata": {
    "collapsed": true
   },
   "outputs": [],
   "source": [
    "featidx3 = rfe.get_support(indices=True)\n",
    "#featureStrs = featuredf.columns.values\n",
    "#print featureStrs[featidx]"
   ]
  },
  {
   "cell_type": "code",
   "execution_count": 25,
   "metadata": {},
   "outputs": [
    {
     "name": "stdout",
     "output_type": "stream",
     "text": [
      "(12398, 481)\n",
      "(12398, 404)\n",
      "-0.0616837399567\n"
     ]
    }
   ],
   "source": [
    "print preProcFeats.shape\n",
    "redfeat3 = preProcFeats[:, featidx3]\n",
    "print redfeat3.shape\n",
    "\n",
    "#np.save('./redfeatold', redfeat)\n",
    "\n",
    "clf = sklearn.ensemble.RandomForestClassifier(bootstrap=True, \n",
    "            class_weight=None, criterion='gini',\n",
    "            max_depth=None, max_features='auto', max_leaf_nodes=None,\n",
    "            min_impurity_decrease=0.0, min_impurity_split=None,\n",
    "            min_samples_leaf=1, min_samples_split=2,\n",
    "            min_weight_fraction_leaf=0.0, n_estimators=80, n_jobs=-1,\n",
    "            oob_score=False, random_state=420, verbose=0,\n",
    "            warm_start=False)\n",
    "\n",
    "print np.mean(sklearn.model_selection.cross_val_score(clf, redfeat3, preProcLabels,\\\n",
    "                                            cv=k_fold, n_jobs=-1, scoring='neg_log_loss'))"
   ]
  },
  {
   "cell_type": "markdown",
   "metadata": {},
   "source": [
    "## Plot all of them together"
   ]
  },
  {
   "cell_type": "code",
   "execution_count": 39,
   "metadata": {
    "collapsed": true
   },
   "outputs": [],
   "source": [
    "# If you randomly guessed the class, log loss would simply be Nlog(1/m) with N test samples and m number of \n",
    "# classes, which is why the binariser performs so well on the log_loss score!\n",
    "\n",
    "luckyeighth = np.zeros(cvscores1.shape) + np.log(8)\n",
    "luckyhalf = np.zeros(cvscores1.shape) + np.log(2)"
   ]
  },
  {
   "cell_type": "code",
   "execution_count": 40,
   "metadata": {},
   "outputs": [
    {
     "data": {
      "image/png": "[encoded data removed]",
      "text/plain": [
       "<matplotlib.figure.Figure at 0x7f02bb8ef490>"
      ]
     },
     "metadata": {},
     "output_type": "display_data"
    }
   ],
   "source": [
    "plt.figure()\n",
    "plt.xlabel('Number of features')\n",
    "plt.ylabel('Cross-validation negative log-loss')\n",
    "plt.plot(range(1, len(cvscores1) + 1), -cvscores1, label = 'new features')\n",
    "plt.plot(range(1, len(cvscores2) + 1), -cvscores2,  label = 'old features')\n",
    "plt.plot(range(1, len(cvscores3) + 1), -cvscores3,  label = 'binarised new features')\n",
    "plt.plot(range(1, len(cvscores1) + 1), luckyeighth,'--', alpha = 0.5, label = 'guess for 8 classes')\n",
    "plt.plot(range(1, len(cvscores1) + 1), luckyhalf, '--', alpha = 0.5, label = 'guess for 2 classes')\n",
    "plt.legend()\n",
    "plt.savefig('graphs/cv.png')\n",
    "plt.show()"
   ]
  },
  {
   "cell_type": "code",
   "execution_count": 41,
   "metadata": {
    "scrolled": true
   },
   "outputs": [
    {
     "data": {
      "image/png": "[encoded data removed]",
      "text/plain": [
       "<matplotlib.figure.Figure at 0x7f02b94f6a50>"
      ]
     },
     "metadata": {},
     "output_type": "display_data"
    }
   ],
   "source": [
    "slicecvscore1 = cvscores1[10:150]\n",
    "slicecvscore2 = cvscores2[10:150]\n",
    "slicecvscore3 = cvscores3[10:150]\n",
    "slicefeats1 = feats1[10:150]\n",
    "slicefeats2 = feats2[10:150]\n",
    "slicefeats3 = feats3[10:150]\n",
    "\n",
    "# luckyeighth = np.zeros(slicecvscore1.shape) + np.log(8)\n",
    "# luckyhalf = np.zeros(slicecvscore1.shape) + np.log(2)\n",
    "\n",
    "plt.figure()\n",
    "plt.xlabel('Number of features')\n",
    "plt.ylabel('Cross-validation negative log-loss')\n",
    "plt.plot(np.arange(1, len(slicecvscore1) + 1)+11, -slicecvscore1, label = 'new features')\n",
    "plt.plot(np.arange(1, len(slicecvscore2) + 1)+11, -slicecvscore2,  label = 'old features')\n",
    "plt.plot(np.arange(1, len(slicecvscore3) + 1)+11, -slicecvscore3,  label = 'binarised new features')\n",
    "#plt.plot(np.arange(1, len(slicecvscore1) + 1)+11, luckyeighth,'--', alpha = 0.5, label = 'guess for 8 classes')\n",
    "#plt.plot(np.arange(1, len(slicecvscore1) + 1)+11, luckyhalf, '--', alpha = 0.5, label = 'guess for 2 classes')\n",
    "plt.legend()\n",
    "plt.savefig('graphs/cvslice.png')\n",
    "plt.show()"
   ]
  }
 ],
 "metadata": {
  "kernelspec": {
   "display_name": "Python 2",
   "language": "python",
   "name": "python2"
  },
  "language_info": {
   "codemirror_mode": {
    "name": "ipython",
    "version": 2
   },
   "file_extension": ".py",
   "mimetype": "text/x-python",
   "name": "python",
   "nbconvert_exporter": "python",
   "pygments_lexer": "ipython2",
   "version": "2.7.13"
  }
 },
 "nbformat": 4,
 "nbformat_minor": 2
}
