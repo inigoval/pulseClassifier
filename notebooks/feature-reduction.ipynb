{
 "cells": [
  {
   "cell_type": "markdown",
   "metadata": {},
   "source": [
    "## Feature Varying Graph\n",
    "\n",
    "Plots important values as a function of feature number."
   ]
  },
  {
   "cell_type": "markdown",
   "metadata": {},
   "source": [
    "#### Import packages and read in pre-processed dataframes/arrays"
   ]
  },
  {
   "cell_type": "code",
   "execution_count": 38,
   "metadata": {
    "collapsed": true
   },
   "outputs": [],
   "source": [
    "import sklearn.ensemble\n",
    "import sklearn.multiclass\n",
    "import sklearn.model_selection\n",
    "import numpy as np\n",
    "import pandas as pd\n",
    "import matplotlib.pyplot as plt\n",
    "%matplotlib inline\n",
    "\n",
    "#Read in preprocessed dataframes:\n",
    "featuredf = pd.read_pickle('./processed.files/labelled/featureDfnew')\n",
    "labelledDf = pd.read_pickle('./processed.files/labelled/labelledDfnew')\n",
    "\n",
    "#Read in preprocessed numpy arrays:\n",
    "preProcFeats = np.load('./processed.files/labelled/featuresnew.npy')\n",
    "preProcLabels = np.load('./processed.files/labelled/labelsnew.npy')"
   ]
  },
  {
   "cell_type": "code",
   "execution_count": 39,
   "metadata": {
    "collapsed": true
   },
   "outputs": [],
   "source": [
    "#delcol = featureDf.columns.str.startswith('pixelM')\n",
    "#featureDf.drop(columns = delcol, inplace=True)\n",
    "# featureDf.drop(list(featureDf.filter(regex = 'pixelM')), axis = 1, inplace = True)\n",
    "# preProcFeats = featureDf.values.astype('float32')\n",
    "# print np.argwhere(np.isfinite(preProcFeats) != True)"
   ]
  },
  {
   "cell_type": "markdown",
   "metadata": {},
   "source": [
    "## New"
   ]
  },
  {
   "cell_type": "code",
   "execution_count": 40,
   "metadata": {},
   "outputs": [
    {
     "name": "stdout",
     "output_type": "stream",
     "text": [
      "481\n",
      "(12398, 481)\n",
      "[  1   1   1   1   1   1   1   1   1   1   1   1   1   1   1   1 256 257\n",
      " 253   1   1 255 254   1   1   1   1   1 215 193   1   1   1   1   1   1\n",
      "   1   1   4   1   1  37   1   1   1   1   1   1   1   1   1   1   6 153\n",
      "   1  74   1 236   1  29   1   1   1  15  50 166 164   1   1   1   1   2\n",
      "  41   1 173  69  18  67 119  19   1 155 131 143   9 104 194   1 224  22\n",
      "  95 198 220 148 127  75   1  62 165   1   5 160  42 175 128 163  82  34\n",
      " 137   1  83  14 187  86  68  47 111  25 105  21  51   1  97  60   1   1\n",
      "  31 124 197 106 174 102  61 113 130 170 190  40 123  87 186 204 222 232\n",
      " 216 139 167 219 207 245 152 238 233  93 237 229   1  94   8 179 225 242\n",
      " 184  30 189 192  63 199 226 228 214 230  96  99   1   1  85 231  23  72\n",
      " 136 223 150 171 185 234 172 195 181 212 209   1   1   1  88   1   1 151\n",
      " 117  27   1 112  43 132  77  92 114  36 122  44 144   1  38   1   1   1\n",
      "   1   1   1   1   1  45 183 218 178   1 217 140 206 133 145  79 161 200\n",
      " 108 203   1 109   1   1  48   1   1   1   1   1  53   1   1 107   1   1\n",
      " 205  91   1   1   1   1 120  71   1 116   1   1  58  16   1   1   1   1\n",
      "   1   1   1 100   1   1   3   1   1   1   1   1 121   7  26 188   1   1\n",
      " 159   1   1   1   1   1  84   1   1 182   1   1 201   1   1  54   1   1\n",
      " 180   1   1 211  24   1 213   1   1  33   1   1 101   1   1 125  28   1\n",
      " 115   1   1  78   1   1 235  59   1 177   1   1 135  52  17  73   1   1\n",
      "  89 156   1 154   1   1  70  76   1 191   1   1 221  65   1  98   1   1\n",
      " 118 103   1  81   1   1 158   1   1 146 129   1 239  10  49 210   1   1\n",
      "  90   1   1 138  11   1 208  55   1   1   1   1 196   1   1  39   1   1\n",
      " 162  13   1 176   1   1  80   1   1   1  35   1 142  57   1 157   1   1\n",
      " 227  20   1   1   1   1  64   1   1 147   1   1 110   1   1   1   1   1\n",
      "   1   1   1   1   1   1   1   1   1   1   1   1   1 141   1   1 169 248\n",
      " 241   1   1   1   1 240 134 249  66 251  46 247  12 252  32 243 149 250\n",
      "  56 244 126 202 168   1   1 246   1   1   1   1   1]\n"
     ]
    }
   ],
   "source": [
    "from sklearn.feature_selection import RFECV\n",
    "from sklearn.datasets import make_classification\n",
    "print preProcFeats.shape[1]\n",
    "k_fold = sklearn.model_selection.StratifiedKFold(n_splits=3, shuffle=True)\n",
    "\n",
    "estimator = sklearn.ensemble.RandomForestClassifier(bootstrap=True, \n",
    "            class_weight=None, criterion='gini',\n",
    "            max_depth=None, max_features='auto', max_leaf_nodes=None,\n",
    "            min_impurity_decrease=0.0, min_impurity_split=None,\n",
    "            min_samples_leaf=1, min_samples_split=2,\n",
    "            min_weight_fraction_leaf=0.0, n_estimators=80, n_jobs=-1,\n",
    "            oob_score=False, random_state=420, verbose=0,\n",
    "            warm_start=False)\n",
    "\n",
    "\n",
    "rfe = RFECV(estimator=estimator, step=1, cv=k_fold, scoring='neg_log_loss')\n",
    "rfe.fit(preProcFeats, preProcLabels)\n",
    "ranked1 = rfe.ranking_\n",
    "\n",
    "print preProcFeats.shape\n",
    "print rfe.ranking_"
   ]
  },
  {
   "cell_type": "code",
   "execution_count": 41,
   "metadata": {},
   "outputs": [
    {
     "data": {
      "image/png": "[encoded data removed]",
      "text/plain": [
       "<matplotlib.figure.Figure at 0x7f3e4a57fd50>"
      ]
     },
     "metadata": {},
     "output_type": "display_data"
    }
   ],
   "source": [
    "cvscores1 = rfe.grid_scores_\n",
    "feats1 = range(1, len(cvscores1) + 1)\n",
    "\n",
    "plt.figure()\n",
    "plt.xlabel('Number of features')\n",
    "plt.ylabel('Cross- validation negative log-loss')\n",
    "plt.plot(feats1, cvscores1)\n",
    "#plt.savefig('feature.importance.graphs/cv.png')\n",
    "plt.show()"
   ]
  },
  {
   "cell_type": "code",
   "execution_count": 42,
   "metadata": {
    "collapsed": true
   },
   "outputs": [],
   "source": [
    "featidx1 = rfe.get_support(indices=True)\n",
    "featureStrs = featuredf.columns.values\n",
    "#print featureStrs[featidx]"
   ]
  },
  {
   "cell_type": "code",
   "execution_count": 43,
   "metadata": {},
   "outputs": [
    {
     "name": "stdout",
     "output_type": "stream",
     "text": [
      "(12398, 481)\n",
      "(12398, 225)\n",
      "-0.581113629343\n"
     ]
    }
   ],
   "source": [
    "print preProcFeats.shape\n",
    "redfeat1 = preProcFeats[:, featidx1]\n",
    "print redfeat1.shape\n",
    "\n",
    "np.save('./redfeatnew', redfeat)\n",
    "\n",
    "clf = sklearn.multiclass.OneVsRestClassifier(estimator,\n",
    "            n_jobs=1)\n",
    "\n",
    "print np.mean(sklearn.model_selection.cross_val_score(clf, redfeat, preProcLabels,\\\n",
    "                                            cv=k_fold, n_jobs=-1, scoring='neg_log_loss'))"
   ]
  },
  {
   "cell_type": "markdown",
   "metadata": {},
   "source": [
    "## Old"
   ]
  },
  {
   "cell_type": "code",
   "execution_count": null,
   "metadata": {
    "collapsed": true
   },
   "outputs": [],
   "source": [
    "preProcFeats = np.load('./processed.files/labelled/featuresold.npy')\n",
    "preProcLabels = np.load('./processed.files/labelled/labelsold.npy')"
   ]
  },
  {
   "cell_type": "code",
   "execution_count": null,
   "metadata": {},
   "outputs": [
    {
     "name": "stdout",
     "output_type": "stream",
     "text": [
      "432\n"
     ]
    }
   ],
   "source": [
    "from sklearn.feature_selection import RFECV\n",
    "from sklearn.datasets import make_classification\n",
    "print preProcFeats.shape[1]\n",
    "\n",
    "rfe = RFECV(estimator=estimator, step=1, cv=k_fold, scoring='neg_log_loss')\n",
    "rfe.fit(preProcFeats, preProcLabels)\n",
    "\n",
    "ranked2 = rfe.ranking_\n",
    "\n",
    "print preProcFeats.shape"
   ]
  },
  {
   "cell_type": "code",
   "execution_count": null,
   "metadata": {
    "collapsed": true
   },
   "outputs": [],
   "source": [
    "cvscores2 = rfe.grid_scores_\n",
    "feats2 = range(1, len(cvscores2) + 1)\n",
    "\n",
    "plt.figure()\n",
    "plt.xlabel('Number of features')\n",
    "plt.ylabel('Cross- validation negative log-loss')\n",
    "plt.plot(feats2, cvscores2)\n",
    "#plt.savefig('feature.importance.graphs/cv.png')\n",
    "plt.show()"
   ]
  },
  {
   "cell_type": "code",
   "execution_count": null,
   "metadata": {
    "collapsed": true
   },
   "outputs": [],
   "source": [
    "featidx3 = rfe.get_support(indices=True)\n",
    "#featureStrs = featuredf.columns.values\n",
    "#print featureStrs[featidx]"
   ]
  },
  {
   "cell_type": "code",
   "execution_count": null,
   "metadata": {
    "collapsed": true
   },
   "outputs": [],
   "source": [
    "print preProcFeats.shape\n",
    "redfeat2 = preProcFeats[:, featidx2]\n",
    "print redfeat2.shape\n",
    "\n",
    "np.save('./redfeatold', redfeat)\n",
    "\n",
    "clf = sklearn.multiclass.OneVsRestClassifier(estimator,\n",
    "            n_jobs=1)\n",
    "\n",
    "print np.mean(sklearn.model_selection.cross_val_score(clf, redfeat, preProcLabels,\\\n",
    "                                            cv=k_fold, n_jobs=-1, scoring='neg_log_loss'))"
   ]
  },
  {
   "cell_type": "markdown",
   "metadata": {},
   "source": [
    "## Binarised"
   ]
  },
  {
   "cell_type": "code",
   "execution_count": null,
   "metadata": {
    "collapsed": true
   },
   "outputs": [],
   "source": [
    "preProcFeats = np.load('./processed.files/labelled/featuresnew.npy')\n",
    "preProcLabels = np.load('./processed.files/labelled/labelsoldnew.npy')\n",
    "preProcLabels[preProcLabels = 9] = 1\n",
    "preProcLabels[preProcLabels != 9] = 0"
   ]
  },
  {
   "cell_type": "code",
   "execution_count": null,
   "metadata": {
    "collapsed": true
   },
   "outputs": [],
   "source": [
    "from sklearn.feature_selection import RFECV\n",
    "from sklearn.datasets import make_classification\n",
    "print preProcFeats.shape[1]\n",
    "\n",
    "rfe = RFECV(estimator=estimator, step=1, cv=k_fold, scoring='neg_log_loss')\n",
    "rfe.fit(preProcFeats, preProcLabels)\n",
    "\n",
    "ranked2 = rfe.ranking_\n",
    "\n",
    "print preProcFeats.shape"
   ]
  },
  {
   "cell_type": "code",
   "execution_count": null,
   "metadata": {
    "collapsed": true
   },
   "outputs": [],
   "source": [
    "cvscores3 = rfe.grid_scores_\n",
    "feats3 = range(1, len(cvscores3) + 1)\n",
    "\n",
    "plt.figure()\n",
    "plt.xlabel('Number of features')\n",
    "plt.ylabel('Cross- validation negative log-loss')\n",
    "plt.plot(feats3, cvscores3)\n",
    "#plt.savefig('feature.importance.graphs/cv.png')\n",
    "plt.show()"
   ]
  },
  {
   "cell_type": "code",
   "execution_count": null,
   "metadata": {
    "collapsed": true
   },
   "outputs": [],
   "source": [
    "featidx3 = rfe.get_support(indices=True)\n",
    "#featureStrs = featuredf.columns.values\n",
    "#print featureStrs[featidx]"
   ]
  },
  {
   "cell_type": "code",
   "execution_count": null,
   "metadata": {
    "collapsed": true
   },
   "outputs": [],
   "source": [
    "print preProcFeats.shape\n",
    "redfeat3 = preProcFeats[:, featidx3]\n",
    "print redfeat3.shape\n",
    "\n",
    "#np.save('./redfeatold', redfeat)\n",
    "\n",
    "clf = sklearn.ensemble.RandomForestClassifier(bootstrap=True, \n",
    "            class_weight=None, criterion='gini',\n",
    "            max_depth=None, max_features='auto', max_leaf_nodes=None,\n",
    "            min_impurity_decrease=0.0, min_impurity_split=None,\n",
    "            min_samples_leaf=1, min_samples_split=2,\n",
    "            min_weight_fraction_leaf=0.0, n_estimators=80, n_jobs=-1,\n",
    "            oob_score=False, random_state=420, verbose=0,\n",
    "            warm_start=False)\n",
    "\n",
    "print np.mean(sklearn.model_selection.cross_val_score(clf, redfeat, preProcLabels,\\\n",
    "                                            cv=k_fold, n_jobs=-1, scoring='neg_log_loss'))"
   ]
  },
  {
   "cell_type": "markdown",
   "metadata": {},
   "source": [
    "## Plot all of them together"
   ]
  },
  {
   "cell_type": "code",
   "execution_count": null,
   "metadata": {
    "collapsed": true
   },
   "outputs": [],
   "source": [
    "plt.figure()\n",
    "plt.xlabel('Number of features')\n",
    "plt.ylabel('Cross-validation negative log-loss')\n",
    "plt.plot(range(1, len(cvscores1) + 1), -cvscores1, label = 'new features')\n",
    "plt.plot(range(1, len(cvscores2) + 1), -cvscores2,  label = 'old features')\n",
    "plt.plot(range(1, len(cvscores3) + 1), -cvscores3,  label = 'binarised new features')\n",
    "plt.savefig('feature.importance.graphs/cv.png')\n",
    "plt.legend()\n",
    "plt.show()"
   ]
  },
  {
   "cell_type": "code",
   "execution_count": null,
   "metadata": {
    "collapsed": true
   },
   "outputs": [],
   "source": [
    "slicecvscore1 = cvscores1[10:150]\n",
    "slicecvscore2 = cvscores2[10:150]\n",
    "slicefeats1 = feats1[10:150]\n",
    "slicefeats2 = feats2[10:150]\n",
    "\n",
    "plt.figure()\n",
    "plt.xlabel('Number of features')\n",
    "plt.ylabel('Cross-validation negative log-loss')\n",
    "plt.plot(range(1, len(slicecvscore1) + 1), -slicecvscore1, label = 'new features')\n",
    "plt.plot(range(1, len(slicecvscore2) + 1), -slicecvscore2,  label = 'old features')\n",
    "plt.plot(range(1, len(slicecvscore3) + 1), -slicecvscore3,  label = 'binarised new features')\n",
    "plt.savefig('graphs/cvslice.png')\n",
    "plt.legend()\n",
    "plt.show()"
   ]
  }
 ],
 "metadata": {
  "kernelspec": {
   "display_name": "Python 2",
   "language": "python",
   "name": "python2"
  },
  "language_info": {
   "codemirror_mode": {
    "name": "ipython",
    "version": 2
   },
   "file_extension": ".py",
   "mimetype": "text/x-python",
   "name": "python",
   "nbconvert_exporter": "python",
   "pygments_lexer": "ipython2",
   "version": "2.7.13"
  }
 },
 "nbformat": 4,
 "nbformat_minor": 2
}
