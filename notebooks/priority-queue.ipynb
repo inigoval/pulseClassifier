{
 "cells": [
  {
   "cell_type": "markdown",
   "metadata": {},
   "source": [
    "## Priority Queue\n",
    "\n",
    "Creates a priority queue of time series to be analysed based on their probability of being an astrophysical source."
   ]
  },
  {
   "cell_type": "markdown",
   "metadata": {},
   "source": [
    "#### Import packages and read in pre-processed dataframes/arrays"
   ]
  },
  {
   "cell_type": "code",
   "execution_count": 46,
   "metadata": {
    "collapsed": true
   },
   "outputs": [],
   "source": [
    "import sklearn.ensemble\n",
    "import sklearn.multiclass\n",
    "import sklearn.model_selection\n",
    "import numpy as np\n",
    "import pandas as pd\n",
    "import os\n",
    "\n",
    "unlabelledDf = pd.read_pickle('./processed.files/raw/unlabelledDfnew')\n",
    "preProcFeats = np.load('./processed.files/labelled/featuresnew.npy')\n",
    "preProcLabels = np.load('./processed.files/labelled/labelsnew.npy')\n",
    "rawfeats = np.load('./processed.files/raw/featuresnew.npy')"
   ]
  },
  {
   "cell_type": "markdown",
   "metadata": {},
   "source": [
    "#### Use the RandomForest method to fit the OneVsRest classifier on all of the data"
   ]
  },
  {
   "cell_type": "code",
   "execution_count": 47,
   "metadata": {
    "collapsed": true
   },
   "outputs": [],
   "source": [
    "randForest = sklearn.multiclass.OneVsRestClassifier(sklearn.ensemble.RandomForestClassifier()) #classifier for multiple labels\n",
    "\n",
    "clf = sklearn.multiclass.OneVsRestClassifier(estimator=sklearn.ensemble.RandomForestClassifier(bootstrap=True, \n",
    "            class_weight=None, criterion='gini',\n",
    "            max_depth=None, max_features='auto', max_leaf_nodes=None,\n",
    "            min_impurity_decrease=0.0, min_impurity_split=None,\n",
    "            min_samples_leaf=1, min_samples_split=2,\n",
    "            min_weight_fraction_leaf=0.0, n_estimators=80, n_jobs=-1,\n",
    "            oob_score=False, random_state=420, verbose=0,\n",
    "            warm_start=False),\n",
    "            n_jobs=1)\n",
    "\n",
    "fitmodel = clf.fit(preProcFeats, preProcLabels)\n",
    "\n",
    "#print np.argwhere(np.isfinite(rawfeats) != True)"
   ]
  },
  {
   "cell_type": "code",
   "execution_count": 48,
   "metadata": {
    "collapsed": true
   },
   "outputs": [],
   "source": [
    "#print unlabelledDf.columns.values"
   ]
  },
  {
   "cell_type": "markdown",
   "metadata": {},
   "source": [
    "#### Predict probabilities to be in class 9, add them to the dataframe, sort by descending probability, export dataframe and write to text file"
   ]
  },
  {
   "cell_type": "code",
   "execution_count": 49,
   "metadata": {
    "scrolled": true
   },
   "outputs": [
    {
     "name": "stdout",
     "output_type": "stream",
     "text": [
      "(102078,)\n",
      "(102078, 492)\n",
      "Index([u'index', u'filterbank', u'datfile', u'BinFactor', u'bestDM', u'Label',\n",
      "       u'P(class9)', u'Buffer'],\n",
      "      dtype='object')\n"
     ]
    }
   ],
   "source": [
    "pred = fitmodel.predict_proba(rawfeats)\n",
    "pred9 = pred[:,7]\n",
    "\n",
    "print pred9.shape\n",
    "print unlabelledDf.shape\n",
    "\n",
    "unlabelledDf['P(class9)'] = pred9\n",
    "\n",
    "sortedDf = unlabelledDf.sort_values('P(class9)', axis = 0,  ascending = False)\n",
    "\n",
    "filterbanks = sortedDf[['filterbank', 'datfile', 'BinFactor', 'bestDM', 'Label', 'P(class9)', 'Buffer']]\n",
    "filterbanks = filterbanks.reset_index()\n",
    "print filterbanks.columns\n",
    "\n",
    "filterbanks.to_pickle('/home/inigo/pulseClassifier/scripts/priorityqueue')\n",
    "\n",
    "base_filename = 'priorityqueue.txt'\n",
    "with open(os.path.join('/home/inigo/pulseClassifier/scripts/', base_filename),'w') as outfile:\n",
    "    filterbanks.to_string(outfile)"
   ]
  }
 ],
 "metadata": {
  "kernelspec": {
   "display_name": "Python 2",
   "language": "python",
   "name": "python2"
  },
  "language_info": {
   "codemirror_mode": {
    "name": "ipython",
    "version": 2
   },
   "file_extension": ".py",
   "mimetype": "text/x-python",
   "name": "python",
   "nbconvert_exporter": "python",
   "pygments_lexer": "ipython2",
   "version": "2.7.13"
  }
 },
 "nbformat": 4,
 "nbformat_minor": 2
}
