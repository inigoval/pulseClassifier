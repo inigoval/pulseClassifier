{
 "cells": [
  {
   "cell_type": "markdown",
   "metadata": {},
   "source": [
    "## Priority Queue\n",
    "\n",
    "Creates a priority queue of time series to be analysed based on their probability of being an astrophysical source."
   ]
  },
  {
   "cell_type": "markdown",
   "metadata": {},
   "source": [
    "#### Import packages and read in pre-processed dataframes/arrays"
   ]
  },
  {
   "cell_type": "code",
   "execution_count": 2,
   "metadata": {
    "collapsed": true
   },
   "outputs": [],
   "source": [
    "import sklearn.ensemble\n",
    "import sklearn.multiclass\n",
    "import sklearn.model_selection\n",
    "import numpy as np\n",
    "import pandas as pd\n",
    "import os\n",
    "\n",
    "unlabelledDf = pd.read_pickle('./processed.files/raw/unlabelledDfnew')\n",
    "preProcFeats = np.load('./processed.files/labelled/featuresnew.npy')\n",
    "preProcLabels = np.load('./processed.files/labelled/labelsnew.npy')\n",
    "rawfeats = np.load('./processed.files/raw/featuresnew.npy')"
   ]
  },
  {
   "cell_type": "markdown",
   "metadata": {},
   "source": [
    "#### Use the RandomForest method to fit the OneVsRest classifier on all of the data"
   ]
  },
  {
   "cell_type": "code",
   "execution_count": 3,
   "metadata": {
    "collapsed": true
   },
   "outputs": [],
   "source": [
    "randForest = sklearn.multiclass.OneVsRestClassifier(sklearn.ensemble.RandomForestClassifier()) #classifier for multiple labels\n",
    "\n",
    "clf = sklearn.multiclass.OneVsRestClassifier(estimator=sklearn.ensemble.RandomForestClassifier(bootstrap=True, \n",
    "            class_weight=None, criterion='gini',\n",
    "            max_depth=None, max_features='auto', max_leaf_nodes=None,\n",
    "            min_impurity_decrease=0.0, min_impurity_split=None,\n",
    "            min_samples_leaf=1, min_samples_split=2,\n",
    "            min_weight_fraction_leaf=0.0, n_estimators=80, n_jobs=-1,\n",
    "            oob_score=False, random_state=420, verbose=0,\n",
    "            warm_start=False),\n",
    "            n_jobs=1)\n",
    "\n",
    "fitmodel = clf.fit(preProcFeats, preProcLabels)\n",
    "\n",
    "#print np.argwhere(np.isfinite(rawfeats) != True)"
   ]
  },
  {
   "cell_type": "code",
   "execution_count": 4,
   "metadata": {
    "collapsed": true
   },
   "outputs": [],
   "source": [
    "#print unlabelledDf.columns.values"
   ]
  },
  {
   "cell_type": "markdown",
   "metadata": {},
   "source": [
    "#### Predict probabilities to be in class 9, add them to the dataframe, sort by descending probability, export dataframe and write to text file"
   ]
  },
  {
   "cell_type": "code",
   "execution_count": 8,
   "metadata": {
    "scrolled": true
   },
   "outputs": [
    {
     "name": "stdout",
     "output_type": "stream",
     "text": [
      " (102082,)\n",
      "(102082, 493)\n",
      "0        Beam1_dm_D20171125T005835.dat\n",
      "1        Beam1_dm_D20171128T235111.dat\n",
      "2        Beam1_dm_D20171128T235111.dat\n",
      "3        Beam1_dm_D20171126T150911.dat\n",
      "4        Beam0_dm_D20171115T020611.dat\n",
      "5        Beam1_dm_D20171121T002911.dat\n",
      "6        Beam1_dm_D20171121T002911.dat\n",
      "7        Beam1_dm_D20171121T002911.dat\n",
      "8        Beam1_dm_D20171121T002911.dat\n",
      "9        Beam1_dm_D20171121T002911.dat\n",
      "10       Beam1_dm_D20171121T002911.dat\n",
      "11       Beam1_dm_D20171121T002911.dat\n",
      "12       Beam1_dm_D20171121T002911.dat\n",
      "13       Beam1_dm_D20171121T002911.dat\n",
      "14       Beam1_dm_D20171121T002911.dat\n",
      "15       Beam1_dm_D20171121T002911.dat\n",
      "16       Beam1_dm_D20171121T002911.dat\n",
      "17       Beam1_dm_D20171121T002911.dat\n",
      "18       Beam1_dm_D20171121T002911.dat\n",
      "19       Beam1_dm_D20171121T002911.dat\n",
      "20       Beam1_dm_D20171121T002911.dat\n",
      "21       Beam1_dm_D20171121T002911.dat\n",
      "22       Beam1_dm_D20171121T002911.dat\n",
      "23       Beam1_dm_D20171121T002911.dat\n",
      "24       Beam1_dm_D20171121T002911.dat\n",
      "25       Beam1_dm_D20171121T002911.dat\n",
      "26       Beam1_dm_D20171121T002911.dat\n",
      "27       Beam1_dm_D20171121T002911.dat\n",
      "28       Beam1_dm_D20171121T002911.dat\n",
      "29       Beam1_dm_D20171121T002911.dat\n",
      "                     ...              \n",
      "35508    Beam6_dm_D20160101T012604.dat\n",
      "35509    Beam6_dm_D20160101T012604.dat\n",
      "35510    Beam6_dm_D20160101T012604.dat\n",
      "35511    Beam6_dm_D20160101T012604.dat\n",
      "35512    Beam6_dm_D20160101T012604.dat\n",
      "35513    Beam6_dm_D20160101T012604.dat\n",
      "35514    Beam6_dm_D20160101T012604.dat\n",
      "35515    Beam6_dm_D20160101T012604.dat\n",
      "35516    Beam6_dm_D20160101T012604.dat\n",
      "35517    Beam6_dm_D20160101T012604.dat\n",
      "35518    Beam6_dm_D20160101T012604.dat\n",
      "35519    Beam6_dm_D20160101T012604.dat\n",
      "35520    Beam6_dm_D20160101T012604.dat\n",
      "35521    Beam6_dm_D20160101T012604.dat\n",
      "35522    Beam6_dm_D20160101T012604.dat\n",
      "35523    Beam6_dm_D20160101T012604.dat\n",
      "35524    Beam6_dm_D20160101T012604.dat\n",
      "35525    Beam6_dm_D20160101T012604.dat\n",
      "35526    Beam6_dm_D20160101T012604.dat\n",
      "35527    Beam6_dm_D20160101T012604.dat\n",
      "35528    Beam6_dm_D20160101T012604.dat\n",
      "35529    Beam6_dm_D20160101T012604.dat\n",
      "35530    Beam6_dm_D20160101T012604.dat\n",
      "35531    Beam6_dm_D20160101T012604.dat\n",
      "35532    Beam6_dm_D20160101T012604.dat\n",
      "35533    Beam6_dm_D20160101T012604.dat\n",
      "35534    Beam6_dm_D20160101T012604.dat\n",
      "35535    Beam6_dm_D20160101T012604.dat\n",
      "35537    Beam6_dm_D20160101T012604.dat\n",
      "35618    Beam6_dm_D20160124T033009.dat\n",
      "Name: datfile, Length: 102082, dtype: object 0        Beam4_fb_D20171115T020611.fil\n",
      "1        Beam4_fb_D20171115T020611.fil\n",
      "2        Beam1_fb_D20171128T235111.fil\n",
      "3        Beam2_fb_D20171115T154117.fil\n",
      "4        Beam2_fb_D20171128T235111.fil\n",
      "5        Beam2_fb_D20171128T235111.fil\n",
      "6        Beam1_fb_D20171121T002911.fil\n",
      "7        Beam2_fb_D20171128T235111.fil\n",
      "8        Beam6_fb_D20171117T004412.fil\n",
      "9        Beam4_fb_D20171121T002911.fil\n",
      "10       Beam2_fb_D20171128T235111.fil\n",
      "11       Beam6_fb_D20171117T004412.fil\n",
      "12       Beam6_fb_D20171117T004412.fil\n",
      "13       Beam6_fb_D20171121T002911.fil\n",
      "14       Beam6_fb_D20171121T002911.fil\n",
      "15       Beam6_fb_D20171121T002911.fil\n",
      "16       Beam4_fb_D20171121T002911.fil\n",
      "17       Beam2_fb_D20171128T235111.fil\n",
      "18       Beam4_fb_D20171121T002911.fil\n",
      "19       Beam6_fb_D20171121T002911.fil\n",
      "20       Beam1_fb_D20171121T002911.fil\n",
      "21       Beam1_fb_D20171121T002911.fil\n",
      "22       Beam1_fb_D20171121T002911.fil\n",
      "23       Beam4_fb_D20171121T002911.fil\n",
      "24       Beam1_fb_D20171121T002911.fil\n",
      "25       Beam6_fb_D20171121T002911.fil\n",
      "26       Beam4_fb_D20171121T002911.fil\n",
      "27       Beam4_fb_D20171121T002911.fil\n",
      "28       Beam4_fb_D20171121T002911.fil\n",
      "29       Beam4_fb_D20171130T203528.fil\n",
      "                     ...              \n",
      "35508    Beam6_fb_D20160101T012604.fil\n",
      "35509    Beam6_fb_D20160101T012604.fil\n",
      "35510    Beam6_fb_D20160101T012604.fil\n",
      "35511    Beam6_fb_D20160101T012604.fil\n",
      "35512    Beam6_fb_D20160101T012604.fil\n",
      "35513    Beam6_fb_D20160101T012604.fil\n",
      "35514    Beam6_fb_D20160101T012604.fil\n",
      "35515    Beam6_fb_D20160101T012604.fil\n",
      "35516    Beam6_fb_D20160101T012604.fil\n",
      "35517    Beam6_fb_D20160101T012604.fil\n",
      "35518    Beam6_fb_D20160101T012604.fil\n",
      "35519    Beam6_fb_D20160101T012604.fil\n",
      "35520    Beam6_fb_D20160101T012604.fil\n",
      "35521    Beam6_fb_D20160101T012604.fil\n",
      "35522    Beam6_fb_D20160101T012604.fil\n",
      "35523    Beam6_fb_D20160101T012604.fil\n",
      "35524    Beam6_fb_D20160101T012604.fil\n",
      "35525    Beam6_fb_D20160101T012604.fil\n",
      "35526    Beam6_fb_D20160101T012604.fil\n",
      "35527    Beam6_fb_D20160101T012604.fil\n",
      "35528    Beam6_fb_D20160101T012604.fil\n",
      "35529    Beam6_fb_D20160101T012604.fil\n",
      "35530    Beam6_fb_D20160101T012604.fil\n",
      "35531    Beam6_fb_D20160101T012604.fil\n",
      "35532    Beam6_fb_D20160101T012604.fil\n",
      "35533    Beam6_fb_D20160101T012604.fil\n",
      "35534    Beam6_fb_D20160101T012604.fil\n",
      "35535    Beam6_fb_D20160101T012604.fil\n",
      "35537    Beam6_fb_D20160101T012604.fil\n",
      "35618    Beam6_fb_D20160124T033009.fil\n",
      "Name: filterbank, Length: 102082, dtype: object\n",
      "Index([u'index', u'filterbank', u'datfile', u'BinFactor', u'bestDM', u'Label',\n",
      "       u'P(class9)', u'Buffer'],\n",
      "      dtype='object')\n"
     ]
    }
   ],
   "source": [
    "pred = fitmodel.predict_proba(rawfeats)\n",
    "pred9 = pred[:,7]\n",
    "\n",
    "print pred9.shape\n",
    "print unlabelledDf.shape\n",
    "\n",
    "unlabelledDf['P(class9)'] = pred9\n",
    "\n",
    "print unlabelledDf['datfile'], unlabelledDf['filterbank']\n",
    "\n",
    "sortedDf = unlabelledDf.sort_values('P(class9)', axis = 0,  ascending = False)\n",
    "\n",
    "filterbanks = sortedDf[['filterbank', 'datfile', 'BinFactor', 'bestDM', 'Label', 'P(class9)', 'Buffer']]\n",
    "filterbanks = filterbanks.reset_index()\n",
    "print filterbanks.columns\n",
    "\n",
    "filterbanks.to_pickle('/home/inigo/pulseClassifier/scripts/priorityqueue')\n",
    "\n",
    "base_filename = 'priorityqueue.txt'\n",
    "with open(os.path.join('/home/inigo/pulseClassifier/scripts/', base_filename),'w') as outfile:\n",
    "    filterbanks.to_string(outfile)"
   ]
  },
  {
   "cell_type": "code",
   "execution_count": null,
   "metadata": {
    "collapsed": true
   },
   "outputs": [],
   "source": []
  }
 ],
 "metadata": {
  "kernelspec": {
   "display_name": "Python 2",
   "language": "python",
   "name": "python2"
  },
  "language_info": {
   "codemirror_mode": {
    "name": "ipython",
    "version": 2
   },
   "file_extension": ".py",
   "mimetype": "text/x-python",
   "name": "python",
   "nbconvert_exporter": "python",
   "pygments_lexer": "ipython2",
   "version": "2.7.13"
  }
 },
 "nbformat": 4,
 "nbformat_minor": 2
}
