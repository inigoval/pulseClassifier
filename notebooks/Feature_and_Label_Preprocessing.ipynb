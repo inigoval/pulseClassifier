{
 "cells": [
  {
   "cell_type": "markdown",
   "metadata": {},
   "source": [
    ".\n",
    "\n",
    "## Average Values\n",
    "\n",
    "Create a table filled with average values for heuristics of each class.\n",
    "\n",
    "\n",
    "### Labels\n",
    "\n",
    "#### RFI\n",
    "\n",
    "* 1 : Unclipped RFI/Noise\n",
    "* 2 : Wide-band, long-duration in time clipped RFI (2016+)\n",
    "* 3 : Wide-band, short-duration in time clipped RFI (2016+)\n",
    "* 4 : Wide-band, short duration clipped RFI (2015)\n",
    "* 5 : Sharp bandpass transition\n",
    "* 6 : Wide-band, bursty clipped RFI (2015)\n",
    "* 7 : Error in spectra captue or replacement\n",
    "* 8 : Systematic int/float overflow\n",
    "\n",
    "#### Astronomical\n",
    "\n",
    "* 0 : Interesting, follow up\n",
    "* 9 : Known Pulsar"
   ]
  },
  {
   "cell_type": "code",
   "execution_count": 26,
   "metadata": {
    "collapsed": true
   },
   "outputs": [],
   "source": [
    "import numpy as np\n",
    "import pandas as pd\n",
    "import matplotlib.pyplot as plt\n",
    "import seaborn as sns\n",
    "\n",
    "%matplotlib inline"
   ]
  },
  {
   "cell_type": "markdown",
   "metadata": {},
   "source": [
    "### Preamble\n",
    "\n",
    "Read in the dataframe and prepare the features for use in scikit-learn."
   ]
  },
  {
   "cell_type": "code",
   "execution_count": 27,
   "metadata": {},
   "outputs": [
    {
     "data": {
      "text/plain": [
       "u'0.22.0'"
      ]
     },
     "execution_count": 27,
     "metadata": {},
     "output_type": "execute_result"
    }
   ],
   "source": [
    "pd.__version__"
   ]
  },
  {
   "cell_type": "code",
   "execution_count": 28,
   "metadata": {
    "collapsed": true
   },
   "outputs": [],
   "source": [
    "df = pd.read_pickle('featureDateframe.pkl')"
   ]
  },
  {
   "cell_type": "code",
   "execution_count": 29,
   "metadata": {},
   "outputs": [
    {
     "data": {
      "text/html": [
       "<div>\n",
       "<style scoped>\n",
       "    .dataframe tbody tr th:only-of-type {\n",
       "        vertical-align: middle;\n",
       "    }\n",
       "\n",
       "    .dataframe tbody tr th {\n",
       "        vertical-align: top;\n",
       "    }\n",
       "\n",
       "    .dataframe thead th {\n",
       "        text-align: right;\n",
       "    }\n",
       "</style>\n",
       "<table border=\"1\" class=\"dataframe\">\n",
       "  <thead>\n",
       "    <tr style=\"text-align: right;\">\n",
       "      <th></th>\n",
       "      <th>Beam</th>\n",
       "      <th>Buffer</th>\n",
       "      <th>MJDstart</th>\n",
       "      <th>bestDM</th>\n",
       "      <th>bestSNR</th>\n",
       "      <th>BinFactor</th>\n",
       "      <th>Events</th>\n",
       "      <th>DMmax</th>\n",
       "      <th>DMmin</th>\n",
       "      <th>DMmean</th>\n",
       "      <th>...</th>\n",
       "      <th>pixelsMean133</th>\n",
       "      <th>pixelsMean140</th>\n",
       "      <th>pixelsMean141</th>\n",
       "      <th>pixelsMean142</th>\n",
       "      <th>pixelsMean143</th>\n",
       "      <th>pixelsMean150</th>\n",
       "      <th>pixelsMean151</th>\n",
       "      <th>pixelsMean152</th>\n",
       "      <th>pixelsMean153</th>\n",
       "      <th>DMin</th>\n",
       "    </tr>\n",
       "  </thead>\n",
       "  <tbody>\n",
       "    <tr>\n",
       "      <th>count</th>\n",
       "      <td>73282.000000</td>\n",
       "      <td>73282.000000</td>\n",
       "      <td>73282.000000</td>\n",
       "      <td>73282.000000</td>\n",
       "      <td>73282.000000</td>\n",
       "      <td>73282.000000</td>\n",
       "      <td>7.328200e+04</td>\n",
       "      <td>73282.000000</td>\n",
       "      <td>73282.000000</td>\n",
       "      <td>73282.000000</td>\n",
       "      <td>...</td>\n",
       "      <td>1.553600e+04</td>\n",
       "      <td>1.553600e+04</td>\n",
       "      <td>1.553600e+04</td>\n",
       "      <td>1.553600e+04</td>\n",
       "      <td>1.553600e+04</td>\n",
       "      <td>1.553600e+04</td>\n",
       "      <td>1.553600e+04</td>\n",
       "      <td>1.553600e+04</td>\n",
       "      <td>1.553600e+04</td>\n",
       "      <td>15536.0</td>\n",
       "    </tr>\n",
       "    <tr>\n",
       "      <th>mean</th>\n",
       "      <td>3.556617</td>\n",
       "      <td>211.437952</td>\n",
       "      <td>57392.275750</td>\n",
       "      <td>994.132829</td>\n",
       "      <td>12.890546</td>\n",
       "      <td>14.171406</td>\n",
       "      <td>5.290837e+03</td>\n",
       "      <td>1843.879770</td>\n",
       "      <td>355.848537</td>\n",
       "      <td>1106.626399</td>\n",
       "      <td>...</td>\n",
       "      <td>-7.649538e+34</td>\n",
       "      <td>-1.288323e+34</td>\n",
       "      <td>1.429098e+34</td>\n",
       "      <td>-8.257392e+34</td>\n",
       "      <td>-5.166311e+34</td>\n",
       "      <td>-1.171005e+34</td>\n",
       "      <td>1.968355e+34</td>\n",
       "      <td>-5.147866e+34</td>\n",
       "      <td>-5.536758e+34</td>\n",
       "      <td>0.0</td>\n",
       "    </tr>\n",
       "    <tr>\n",
       "      <th>std</th>\n",
       "      <td>2.433997</td>\n",
       "      <td>272.753575</td>\n",
       "      <td>186.092812</td>\n",
       "      <td>2270.499049</td>\n",
       "      <td>79.265038</td>\n",
       "      <td>20.233713</td>\n",
       "      <td>3.448143e+04</td>\n",
       "      <td>3329.930528</td>\n",
       "      <td>1195.291547</td>\n",
       "      <td>2135.608269</td>\n",
       "      <td>...</td>\n",
       "      <td>1.325614e+36</td>\n",
       "      <td>2.036459e+36</td>\n",
       "      <td>2.037379e+36</td>\n",
       "      <td>1.691754e+36</td>\n",
       "      <td>1.241378e+36</td>\n",
       "      <td>1.969270e+36</td>\n",
       "      <td>2.078970e+36</td>\n",
       "      <td>1.700915e+36</td>\n",
       "      <td>1.240187e+36</td>\n",
       "      <td>0.0</td>\n",
       "    </tr>\n",
       "    <tr>\n",
       "      <th>min</th>\n",
       "      <td>0.000000</td>\n",
       "      <td>1.000000</td>\n",
       "      <td>57197.378446</td>\n",
       "      <td>0.000000</td>\n",
       "      <td>6.001704</td>\n",
       "      <td>1.000000</td>\n",
       "      <td>1.000000e+00</td>\n",
       "      <td>3.000000</td>\n",
       "      <td>0.000000</td>\n",
       "      <td>3.000000</td>\n",
       "      <td>...</td>\n",
       "      <td>-9.207459e+37</td>\n",
       "      <td>-6.056628e+37</td>\n",
       "      <td>-4.619998e+37</td>\n",
       "      <td>-3.490131e+37</td>\n",
       "      <td>-2.546661e+37</td>\n",
       "      <td>-5.667321e+37</td>\n",
       "      <td>-7.581628e+37</td>\n",
       "      <td>-3.265455e+37</td>\n",
       "      <td>-2.027739e+37</td>\n",
       "      <td>0.0</td>\n",
       "    </tr>\n",
       "    <tr>\n",
       "      <th>25%</th>\n",
       "      <td>1.000000</td>\n",
       "      <td>25.000000</td>\n",
       "      <td>57275.173537</td>\n",
       "      <td>7.000000</td>\n",
       "      <td>10.510364</td>\n",
       "      <td>2.000000</td>\n",
       "      <td>4.000000e+00</td>\n",
       "      <td>10.000000</td>\n",
       "      <td>5.000000</td>\n",
       "      <td>7.500000</td>\n",
       "      <td>...</td>\n",
       "      <td>0.000000e+00</td>\n",
       "      <td>-4.959372e+01</td>\n",
       "      <td>-1.515740e+01</td>\n",
       "      <td>-1.521857e+00</td>\n",
       "      <td>0.000000e+00</td>\n",
       "      <td>-4.950695e+01</td>\n",
       "      <td>-1.517410e+01</td>\n",
       "      <td>-1.548867e+00</td>\n",
       "      <td>0.000000e+00</td>\n",
       "      <td>0.0</td>\n",
       "    </tr>\n",
       "    <tr>\n",
       "      <th>50%</th>\n",
       "      <td>4.000000</td>\n",
       "      <td>111.000000</td>\n",
       "      <td>57328.330289</td>\n",
       "      <td>13.000000</td>\n",
       "      <td>11.301913</td>\n",
       "      <td>4.000000</td>\n",
       "      <td>3.400000e+01</td>\n",
       "      <td>27.000000</td>\n",
       "      <td>7.000000</td>\n",
       "      <td>16.500000</td>\n",
       "      <td>...</td>\n",
       "      <td>1.086369e+01</td>\n",
       "      <td>-1.265199e+01</td>\n",
       "      <td>-3.927948e+00</td>\n",
       "      <td>6.237355e+00</td>\n",
       "      <td>1.093944e+01</td>\n",
       "      <td>-1.249311e+01</td>\n",
       "      <td>-3.930597e+00</td>\n",
       "      <td>6.197421e+00</td>\n",
       "      <td>1.063596e+01</td>\n",
       "      <td>0.0</td>\n",
       "    </tr>\n",
       "    <tr>\n",
       "      <th>75%</th>\n",
       "      <td>6.000000</td>\n",
       "      <td>295.000000</td>\n",
       "      <td>57372.219326</td>\n",
       "      <td>273.000000</td>\n",
       "      <td>12.641252</td>\n",
       "      <td>16.000000</td>\n",
       "      <td>4.890000e+02</td>\n",
       "      <td>2024.000000</td>\n",
       "      <td>16.000000</td>\n",
       "      <td>947.812319</td>\n",
       "      <td>...</td>\n",
       "      <td>4.499946e+01</td>\n",
       "      <td>0.000000e+00</td>\n",
       "      <td>1.774699e+00</td>\n",
       "      <td>1.754257e+01</td>\n",
       "      <td>4.509341e+01</td>\n",
       "      <td>0.000000e+00</td>\n",
       "      <td>1.815087e+00</td>\n",
       "      <td>1.765943e+01</td>\n",
       "      <td>4.493125e+01</td>\n",
       "      <td>0.0</td>\n",
       "    </tr>\n",
       "    <tr>\n",
       "      <th>max</th>\n",
       "      <td>6.000000</td>\n",
       "      <td>2001.000000</td>\n",
       "      <td>57893.840891</td>\n",
       "      <td>10039.000000</td>\n",
       "      <td>20954.304688</td>\n",
       "      <td>64.000000</td>\n",
       "      <td>2.135578e+06</td>\n",
       "      <td>57287.182376</td>\n",
       "      <td>10035.000000</td>\n",
       "      <td>10035.500000</td>\n",
       "      <td>...</td>\n",
       "      <td>2.705174e+37</td>\n",
       "      <td>5.516305e+37</td>\n",
       "      <td>3.653238e+37</td>\n",
       "      <td>7.613141e+37</td>\n",
       "      <td>8.167050e+37</td>\n",
       "      <td>5.213531e+37</td>\n",
       "      <td>4.942519e+37</td>\n",
       "      <td>8.182356e+37</td>\n",
       "      <td>8.167050e+37</td>\n",
       "      <td>0.0</td>\n",
       "    </tr>\n",
       "  </tbody>\n",
       "</table>\n",
       "<p>8 rows × 404 columns</p>\n",
       "</div>"
      ],
      "text/plain": [
       "               Beam        Buffer      MJDstart        bestDM       bestSNR  \\\n",
       "count  73282.000000  73282.000000  73282.000000  73282.000000  73282.000000   \n",
       "mean       3.556617    211.437952  57392.275750    994.132829     12.890546   \n",
       "std        2.433997    272.753575    186.092812   2270.499049     79.265038   \n",
       "min        0.000000      1.000000  57197.378446      0.000000      6.001704   \n",
       "25%        1.000000     25.000000  57275.173537      7.000000     10.510364   \n",
       "50%        4.000000    111.000000  57328.330289     13.000000     11.301913   \n",
       "75%        6.000000    295.000000  57372.219326    273.000000     12.641252   \n",
       "max        6.000000   2001.000000  57893.840891  10039.000000  20954.304688   \n",
       "\n",
       "          BinFactor        Events         DMmax         DMmin        DMmean  \\\n",
       "count  73282.000000  7.328200e+04  73282.000000  73282.000000  73282.000000   \n",
       "mean      14.171406  5.290837e+03   1843.879770    355.848537   1106.626399   \n",
       "std       20.233713  3.448143e+04   3329.930528   1195.291547   2135.608269   \n",
       "min        1.000000  1.000000e+00      3.000000      0.000000      3.000000   \n",
       "25%        2.000000  4.000000e+00     10.000000      5.000000      7.500000   \n",
       "50%        4.000000  3.400000e+01     27.000000      7.000000     16.500000   \n",
       "75%       16.000000  4.890000e+02   2024.000000     16.000000    947.812319   \n",
       "max       64.000000  2.135578e+06  57287.182376  10035.000000  10035.500000   \n",
       "\n",
       "        ...     pixelsMean133  pixelsMean140  pixelsMean141  pixelsMean142  \\\n",
       "count   ...      1.553600e+04   1.553600e+04   1.553600e+04   1.553600e+04   \n",
       "mean    ...     -7.649538e+34  -1.288323e+34   1.429098e+34  -8.257392e+34   \n",
       "std     ...      1.325614e+36   2.036459e+36   2.037379e+36   1.691754e+36   \n",
       "min     ...     -9.207459e+37  -6.056628e+37  -4.619998e+37  -3.490131e+37   \n",
       "25%     ...      0.000000e+00  -4.959372e+01  -1.515740e+01  -1.521857e+00   \n",
       "50%     ...      1.086369e+01  -1.265199e+01  -3.927948e+00   6.237355e+00   \n",
       "75%     ...      4.499946e+01   0.000000e+00   1.774699e+00   1.754257e+01   \n",
       "max     ...      2.705174e+37   5.516305e+37   3.653238e+37   7.613141e+37   \n",
       "\n",
       "       pixelsMean143  pixelsMean150  pixelsMean151  pixelsMean152  \\\n",
       "count   1.553600e+04   1.553600e+04   1.553600e+04   1.553600e+04   \n",
       "mean   -5.166311e+34  -1.171005e+34   1.968355e+34  -5.147866e+34   \n",
       "std     1.241378e+36   1.969270e+36   2.078970e+36   1.700915e+36   \n",
       "min    -2.546661e+37  -5.667321e+37  -7.581628e+37  -3.265455e+37   \n",
       "25%     0.000000e+00  -4.950695e+01  -1.517410e+01  -1.548867e+00   \n",
       "50%     1.093944e+01  -1.249311e+01  -3.930597e+00   6.197421e+00   \n",
       "75%     4.509341e+01   0.000000e+00   1.815087e+00   1.765943e+01   \n",
       "max     8.167050e+37   5.213531e+37   4.942519e+37   8.182356e+37   \n",
       "\n",
       "       pixelsMean153     DMin  \n",
       "count   1.553600e+04  15536.0  \n",
       "mean   -5.536758e+34      0.0  \n",
       "std     1.240187e+36      0.0  \n",
       "min    -2.027739e+37      0.0  \n",
       "25%     0.000000e+00      0.0  \n",
       "50%     1.063596e+01      0.0  \n",
       "75%     4.493125e+01      0.0  \n",
       "max     8.167050e+37      0.0  \n",
       "\n",
       "[8 rows x 404 columns]"
      ]
     },
     "execution_count": 29,
     "metadata": {},
     "output_type": "execute_result"
    }
   ],
   "source": [
    "df.describe()"
   ]
  },
  {
   "cell_type": "code",
   "execution_count": 30,
   "metadata": {},
   "outputs": [
    {
     "data": {
      "text/plain": [
       "(73282, 407)"
      ]
     },
     "execution_count": 30,
     "metadata": {},
     "output_type": "execute_result"
    }
   ],
   "source": [
    "df.shape"
   ]
  },
  {
   "cell_type": "markdown",
   "metadata": {},
   "source": [
    "#### Re-label Mis-labelled Type 8 Events"
   ]
  },
  {
   "cell_type": "code",
   "execution_count": 31,
   "metadata": {
    "collapsed": true
   },
   "outputs": [],
   "source": [
    "reLabel = [('Beam4_fb_D20150821T195709.fil', 202),\n",
    "           ('Beam0_fb_D20150906T194609.fil', 275),\n",
    "           ('Beam4_fb_D20150909T235709.fil', 467),\n",
    "           ('Beam6_fb_D20150925T221909.fil', 3),\n",
    "           ('Beam1_fb_D20151215T221703.fil', 377),\n",
    "           ('Beam1_fb_D20151215T221703.fil', 595),\n",
    "           ('Beam1_fb_D20151216T231103.fil', 50),\n",
    "           ('Beam1_fb_D20151217T050412.fil', 196),\n",
    "           ('Beam1_fb_D20151217T050412.fil', 197),\n",
    "           ('Beam1_fb_D20151217T050412.fil', 202),\n",
    "           ('Beam0_fb_D20160824T104004.fil', 1392),\n",
    "           ('Beam0_fb_D20160825T003010.fil', 3),\n",
    "           ('Beam0_fb_D20160824T104004.fil', 1392),\n",
    "           ('Beam0_fb_D20160825T003010.fil', 3),\n",
    "           ('Beam0_fb_D20170310T020409.fil', 6),\n",
    "           ('Beam0_fb_D20170310T020409.fil', 8),\n",
    "           ('Beam0_fb_D20170310T020409.fil', 9),\n",
    "           ('Beam0_fb_D20170310T020409.fil', 11),\n",
    "           ('Beam0_fb_D20170310T020409.fil', 14),\n",
    "           ('Beam0_fb_D20170310T020409.fil', 15),\n",
    "           ('Beam0_fb_D20170310T020409.fil', 16),\n",
    "           ('Beam0_fb_D20170310T020409.fil', 17),\n",
    "           ('Beam0_fb_D20170310T020409.fil', 19),\n",
    "           ('Beam0_fb_D20170310T020409.fil', 21),\n",
    "           ('Beam0_fb_D20170310T020409.fil', 25),\n",
    "           ('Beam1_fb_D20170310T020409.fil', 4),\n",
    "           ('Beam4_fb_D20170310T020409.fil', 7),\n",
    "           ('Beam5_fb_D20170310T020409.fil', 1),\n",
    "           ('Beam5_fb_D20170310T020409.fil', 2),\n",
    "           ('Beam6_fb_D20170311T184903.fil', 2),\n",
    "           ('Beam1_fb_D20170312T182504.fil', 2),\n",
    "           ('Beam2_fb_D20170325T011509.fil', 1),\n",
    "           ('Beam1_fb_D20170310T020409.fil', 3),\n",
    "           ('Beam0_fb_D20170311T184903.fil', 2),\n",
    "           ('Beam1_fb_D20170311T184903.fil', 1),\n",
    "           ('Beam5_fb_D20170312T182504.fil', 1),\n",
    "           ('Beam1_fb_D20170310T020409.fil', 2),\n",
    "           ('Beam6_fb_D20170311T184903.fil', 3),\n",
    "           ('Beam4_fb_D20170312T182504.fil', 10),\n",
    "           ('Beam0_fb_D20170310T020409.fil', 2),\n",
    "           ('Beam4_fb_D20170310T020409.fil', 4),\n",
    "           ('Beam0_fb_D20170310T020409.fil', 1),\n",
    "           ('Beam0_fb_D20170310T020409.fil', 3),\n",
    "           ('Beam0_fb_D20170310T020409.fil', 4),\n",
    "           ('Beam0_fb_D20170310T020409.fil', 5),\n",
    "           ('Beam0_fb_D20170310T020409.fil', 7),\n",
    "           ('Beam0_fb_D20170310T020409.fil', 10),\n",
    "           ('Beam0_fb_D20170310T020409.fil', 12),\n",
    "           ('Beam0_fb_D20170310T020409.fil', 13),\n",
    "           ('Beam0_fb_D20170310T020409.fil', 18),\n",
    "           ('Beam0_fb_D20170310T020409.fil', 20),\n",
    "           ('Beam0_fb_D20170310T020409.fil', 22),\n",
    "           ('Beam0_fb_D20170310T020409.fil', 23),\n",
    "           ('Beam0_fb_D20170310T020409.fil', 24),\n",
    "           ('Beam1_fb_D20170310T020409.fil', 1),\n",
    "           ('Beam4_fb_D20170310T020409.fil', 3),\n",
    "           ('Beam4_fb_D20170310T020409.fil', 5),\n",
    "           ('Beam4_fb_D20170310T020409.fil', 6),\n",
    "           ('Beam0_fb_D20170311T184903.fil', 1)]"
   ]
  },
  {
   "cell_type": "code",
   "execution_count": 32,
   "metadata": {
    "collapsed": true
   },
   "outputs": [],
   "source": [
    "# Relabel mis-labelled events to overflow (label 8)\n",
    "for fil,buf in reLabel:\n",
    "    #print fil, buf\n",
    "    df.loc[(df['filterbank']==fil) & (df['Buffer']==buf), 'Label'] = 8"
   ]
  },
  {
   "cell_type": "markdown",
   "metadata": {},
   "source": [
    "#### Compute MJD Features\n",
    "\n",
    "We don't care about the absolute MJDs, but the relative offset within the dataset."
   ]
  },
  {
   "cell_type": "code",
   "execution_count": 33,
   "metadata": {
    "collapsed": true
   },
   "outputs": [],
   "source": [
    "df['relMJDmax'] = df['MJDmax'] - df['MJDmin']\n",
    "df['relMJDmean'] = df['MJDmean'] - df['MJDmin']\n",
    "df['relMJDmedian'] = df['MJDmedian'] - df['MJDmin']"
   ]
  },
  {
   "cell_type": "code",
   "execution_count": 35,
   "metadata": {},
   "outputs": [
    {
     "name": "stderr",
     "output_type": "stream",
     "text": [
      "/home/inigo/anaconda2/lib/python2.7/site-packages/ipykernel_launcher.py:8: RuntimeWarning: invalid value encountered in greater\n",
      "  \n"
     ]
    },
    {
     "name": "stdout",
     "output_type": "stream",
     "text": [
      "(245649, 1)\n",
      "(1604,)\n",
      "nan\n"
     ]
    }
   ],
   "source": [
    "# df.reset_index(drop=True, inplace=True)\n",
    "\n",
    "# #Create a dataframe with only float values, convert to a numpy array:\n",
    "# floatdf = df.drop(['Beam', 'Buffer', 'TSID', 'Label', 'datfile', 'predictLabel', 'filterbank', 'MJDmax', 'MJDmean', 'MJDmedian', 'MJDmin'], axis=1)\n",
    "# fullarr = floatdf.values.astype('float32')\n",
    "\n",
    "# #Find row indices where values are extremely large:\n",
    "# overflowargs = np.argwhere(fullarr > 1e+7)\n",
    "# overflowidx = np.hsplit(overflowargs,2)[0]\n",
    "# overflowidx = np.unique(overflowidx)\n",
    "# overflowidx.flatten()\n",
    "# print overflowidx.shape\n",
    "\n",
    "# #Put overflows in label 8:\n",
    "# for i in overflowidx:\n",
    "#     df.ix[i, 'Label'] = 8\n",
    "#     #print i\n",
    "\n",
    "# #Drop overflow values:\n",
    "# fullar = df.drop(overflowidx)\n",
    "\n",
    "# fullarr = floatdf.values.astype('float32')\n",
    "# print np.amax(fullarr)"
   ]
  },
  {
   "cell_type": "markdown",
   "metadata": {},
   "source": [
    "**Filter for only labelled data (i.e. Label > -1) and Drop Type 8 Events**"
   ]
  },
  {
   "cell_type": "code",
   "execution_count": 9,
   "metadata": {
    "collapsed": true
   },
   "outputs": [],
   "source": [
    "labelledDf = df[df['Label'] > -1] \n",
    "unlabelledDf = df[df['Label'] < -0.5]\n",
    "labelledDf = labelledDf[labelledDf['Label'] != 8] #delete column labelled by 8"
   ]
  },
  {
   "cell_type": "markdown",
   "metadata": {},
   "source": [
    "**Relabel 0 to 9**\n",
    "\n",
    "We are interested in both 9 and 0 labels and both appear similar."
   ]
  },
  {
   "cell_type": "code",
   "execution_count": 10,
   "metadata": {
    "collapsed": true
   },
   "outputs": [],
   "source": [
    "labelledDf.loc[labelledDf['Label'] == 0, 'Label'] = 9 #finds indices where label is 0 or 9"
   ]
  },
  {
   "cell_type": "code",
   "execution_count": 11,
   "metadata": {},
   "outputs": [
    {
     "name": "stdout",
     "output_type": "stream",
     "text": [
      "datfile Beam0_dm_D20150624T020452.dat Beam6_dm_D20170324T215304.dat\n",
      "Beam 0 6 2.64289416941\n",
      "TSID D20150624T020452 D20170325T092403\n",
      "Buffer 1 1997 234.099730177\n",
      "MJDstart 57197.3848466 57837.3807827 158.637469447\n",
      "bestDM 51.0 10039.0 2925.42377249\n",
      "bestSNR 10.0002756119 181.342330933 7.78511888853\n",
      "BinFactor 1 64 23.3707904092\n",
      "Events 1 1800508 63404.711047\n",
      "DMmax 54.0 10039.0 3741.79111564\n",
      "DMmin 0.0 10035.0 1854.50379848\n",
      "DMmean 25.1612903226 10035.5 2705.60863642\n",
      "DMmedian 9.0 10035.5 2819.01443151\n",
      "DMstd 0.707106781187 4672.49363237 881.751739387\n",
      "SNRmean 7.07141349051 19.9987541906 1.31552412109\n",
      "SNRmedian 6.77030944824 15.0827293396 0.96828782134\n",
      "SNRstd 0.000775502012695 14.4079302489 1.31336401293\n",
      "MJDmax 57197.3848944 57837.3808056 158.637465108\n",
      "MJDmin 57197.3848934 57837.3808055 158.637468173\n",
      "MJDstd 0.0 4.11672955923e-05 8.34844478405e-06\n",
      "MJDmean 57197.384894 57837.3808055 158.637466696\n",
      "MJDmedian 57197.384894 57837.3808055 158.637466697\n",
      "Label 1 9 2.14351963379\n",
      "predictLabel -1 -1 0.0\n",
      "filterbank Beam0_fb_D20150624T020452.fil Beam6_fb_D20170324T215304.fil\n",
      "pctZero 0.0 1.0 0.131784722092\n",
      "pctZeroDeriv 0.0 1.0 0.251346001821\n",
      "ofCount 0.0 0.0 0.0\n",
      "ofPct 0.0 0.0 0.0\n",
      "longestRun0 0.0 3967.0 229.031165243\n",
      "longestRun1 -39.3862 4.0625 0.552003085613\n",
      "longestRun2 0.0 0.9755859375 0.120734042258\n",
      "globtsStatsStd 0.0 548.124 77.6686248779\n",
      "globtsStatsMax -629.252 1008.37 43.4365081787\n",
      "globtsStatsPosCnt 0.0 15966.0 965.907791348\n",
      "globtsStatsMin -1603.77 0.00012207 324.822753906\n",
      "globtsStatsNegPct 0.0 0.5 0.103673732141\n",
      "globtsStatsMedian -1087.21 1.10535 155.451980591\n",
      "globtsStatsRatio0 0.0 554451.0 15644.6113281\n",
      "globtsStatsPosPct 0.0 0.5 0.107548217116\n",
      "globtsStatsNegCnt 0.0 16046.0 978.127141878\n",
      "globtsStatsRatio1 0.0 1821.19 17.5763778687\n",
      "globtsStatsMean -1081.13 39.0303 143.464889526\n",
      "globDedisptsStatsStd 0.0 548.124 77.6686248779\n",
      "globDedisptsStatsMax -629.252 1008.37 43.4365081787\n",
      "globDedisptsStatsPosCnt 0.0 15966.0 965.907791348\n",
      "globDedisptsStatsMin -1603.77 0.00012207 324.822753906\n",
      "globDedisptsStatsNegPct 0.0 0.5 0.103673732141\n",
      "globDedisptsStatsMedian -1087.21 1.10535 155.451980591\n",
      "globDedisptsStatsRatio0 0.0 554451.0 15644.6113281\n",
      "globDedisptsStatsPosPct 0.0 0.5 0.107548217116\n",
      "globDedisptsStatsNegCnt 0.0 16046.0 978.127141878\n",
      "globDedisptsStatsRatio1 0.0 1821.19 17.5763778687\n",
      "globDedisptsStatsMean -1081.13 39.0303 143.464889526\n",
      "windTimeStatsStd0 0.0 558.382751465 42.5584919622\n",
      "windTimeStatsStd1 0.0 583.635437012 39.7327446182\n",
      "windTimeStatsStd2 0.0 556.963317871 42.4081456925\n",
      "windTimeStatsStd3 0.0 551.717773438 40.3013795379\n",
      "windTimeStatsStd4 0.0 549.284301758 41.6680636819\n",
      "windTimeStatsStd5 0.0 558.300109863 42.1971675811\n",
      "windTimeStatsStd6 0.0 525.65447998 41.1844825736\n",
      "windTimeStatsStd7 0.0 519.60534668 41.3000095057\n",
      "windTimeStatsStd8 0.0 557.462646484 39.1605863784\n",
      "windTimeStatsStd9 0.0 544.641052246 43.3738513643\n",
      "windTimeStatsStd10 0.0 578.808349609 38.0329443022\n",
      "windTimeStatsStd11 0.0 542.165466309 39.4181555582\n",
      "windTimeStatsStd12 0.0 570.473022461 41.1910523475\n",
      "windTimeStatsStd13 0.0 537.392456055 39.7119865141\n",
      "windTimeStatsStd14 0.0 581.288452148 43.86777877\n",
      "windTimeStatsStd15 0.0 550.697753906 44.8167739768\n",
      "windTimeStatsMax0 -865.115234375 585.878173828 101.474565207\n",
      "windTimeStatsMax1 -856.729492188 760.246459961 102.496382305\n",
      "windTimeStatsMax2 -891.661621094 560.338623047 90.8833253546\n",
      "windTimeStatsMax3 -826.946533203 250.213043213 89.8203696033\n",
      "windTimeStatsMax4 -727.579101562 318.655609131 94.5002053292\n",
      "windTimeStatsMax5 -863.502685547 373.134216309 90.6498922561\n",
      "windTimeStatsMax6 -825.634765625 849.233886719 96.0114068211\n",
      "windTimeStatsMax7 -771.24420166 761.433837891 97.8046775821\n",
      "windTimeStatsMax8 -896.201171875 907.08795166 116.428330422\n",
      "windTimeStatsMax9 -864.51184082 800.519287109 102.429702717\n",
      "windTimeStatsMax10 -823.198608398 831.51184082 103.379538415\n",
      "windTimeStatsMax11 -887.702880859 1008.37207031 111.993139364\n",
      "windTimeStatsMax12 -888.789794922 953.875244141 105.240013163\n",
      "windTimeStatsMax13 -892.153442383 605.985717773 105.634889097\n",
      "windTimeStatsMax14 -856.71875 724.088256836 98.9091719615\n",
      "windTimeStatsMax15 -892.554199219 823.316772461 115.395351498\n",
      "windTimeStatsMin0 -1541.94482422 0.005859375 246.659906704\n",
      "windTimeStatsMin1 -1603.77038574 0.0107421875 239.505979751\n",
      "windTimeStatsMin2 -1578.42089844 1.2001953125 242.587816067\n",
      "windTimeStatsMin3 -1511.36987305 0.0107421875 233.228193011\n",
      "windTimeStatsMin4 -1506.27978516 0.0068359375 233.566809716\n",
      "windTimeStatsMin5 -1484.79980469 0.00732421875 233.507843061\n",
      "windTimeStatsMin6 -1460.19335938 0.00732421875 237.30482705\n",
      "windTimeStatsMin7 -1460.19335938 0.009765625 236.693092116\n",
      "windTimeStatsMin8 -1537.42016602 0.05712890625 242.124018431\n",
      "windTimeStatsMin9 -1489.76000977 2.44482421875 242.011249289\n",
      "windTimeStatsMin10 -1461.76025391 0.0087890625 230.827289949\n",
      "windTimeStatsMin11 -1560.71386719 0.103271484375 247.454130126\n",
      "windTimeStatsMin12 -1603.56237793 0.969360351562 250.791223723\n",
      "windTimeStatsMin13 -1477.55688477 0.580688476562 234.961327134\n",
      "windTimeStatsMin14 -1590.36755371 2.75109863281 255.962235569\n",
      "windTimeStatsMin15 -1578.421875 0.0107421875 264.336307414\n",
      "windTimeStatsSnr0 -90.8653095482 57.4736974806 3.20791229868\n",
      "windTimeStatsSnr1 -56.7908184676 90.8653095482 2.63285466867\n",
      "windTimeStatsSnr2 -45.8603968849 35.471115165 2.5177254237\n",
      "windTimeStatsSnr3 -56.7908184676 45.4326547741 2.56599837933\n",
      "windTimeStatsSnr4 -56.7908184676 28.8444933938 2.52528105191\n",
      "windTimeStatsSnr5 -22.9894789922 37.3579033624 2.37838918822\n",
      "windTimeStatsSnr6 -102.223473242 42.9642972136 2.55936434285\n",
      "windTimeStatsSnr7 -33.1046784594 62.0330442303 2.53697669963\n",
      "windTimeStatsSnr8 -27.5352390659 56.7908184676 2.61173879159\n",
      "windTimeStatsSnr9 -24.5964555833 37.4558682547 2.46593415593\n",
      "windTimeStatsSnr10 -35.1850570817 36.2845893228 2.50908471397\n",
      "windTimeStatsSnr11 -27.2595924031 34.0744910806 2.54579310798\n",
      "windTimeStatsSnr12 -45.4326547741 30.2421232277 2.43558759275\n",
      "windTimeStatsSnr13 -329.386747112 45.9789579845 3.91025261283\n",
      "windTimeStatsSnr14 -48.3794524304 120.694764709 2.79134982501\n",
      "windTimeStatsSnr15 -45.4326547741 51.7263277325 2.55858013982\n",
      "windTimeStatsMean0 -1131.98266602 18.4203453064 158.074266775\n",
      "windTimeStatsMean1 -1116.21887207 24.9705371857 158.500352834\n",
      "windTimeStatsMean2 -1134.70727539 37.0761795044 160.277459727\n",
      "windTimeStatsMean3 -1100.49194336 3.16044020653 156.985118309\n",
      "windTimeStatsMean4 -1067.62365723 5.24286317825 156.616369415\n",
      "windTimeStatsMean5 -1095.90820312 5.57915496826 158.204441971\n",
      "windTimeStatsMean6 -1060.02416992 4.72606658936 155.046034097\n",
      "windTimeStatsMean7 -1047.58349609 134.817565918 154.155166886\n",
      "windTimeStatsMean8 -1116.61474609 95.2661056519 167.899886782\n",
      "windTimeStatsMean9 -1098.32958984 67.6925201416 161.149796219\n",
      "windTimeStatsMean10 -1092.98046875 72.6569747925 156.69466659\n",
      "windTimeStatsMean11 -1126.1105957 53.0462722778 166.074580223\n",
      "windTimeStatsMean12 -1106.43554688 100.566696167 165.455908125\n",
      "windTimeStatsMean13 -1081.16943359 85.6817169189 160.791614851\n",
      "windTimeStatsMean14 -1109.09313965 10.0377645493 165.815808604\n",
      "windTimeStatsMean15 -1124.16772461 41.4628868103 170.388525306\n",
      "windDedispTimeStatsStd0 0.0 4778.08398438 227.466560224\n",
      "windDedispTimeStatsStd1 0.0 4605.71191406 216.134689491\n",
      "windDedispTimeStatsStd2 0.0 13291.6679688 245.589007245\n",
      "windDedispTimeStatsStd3 0.0 6912.37988281 230.380054181\n",
      "windDedispTimeStatsStd4 0.0 4546.95214844 234.137495058\n",
      "windDedispTimeStatsStd5 0.0 13068.8310547 241.349051937\n",
      "windDedispTimeStatsStd6 0.0 7856.71142578 230.721281678\n",
      "windDedispTimeStatsStd7 0.0 5132.26416016 230.423289512\n",
      "windDedispTimeStatsStd8 0.0 7766.61865234 230.408010052\n",
      "windDedispTimeStatsStd9 0.0 4901.16601562 233.393746924\n",
      "windDedispTimeStatsStd10 0.0 7653.37402344 220.260367951\n",
      "windDedispTimeStatsStd11 0.0 7290.14013672 225.680293955\n",
      "windDedispTimeStatsStd12 0.0 8408.05664062 237.540935255\n",
      "windDedispTimeStatsStd13 0.0 9149.80664062 244.624739585\n",
      "windDedispTimeStatsStd14 0.0 5782.45410156 240.110369699\n",
      "windDedispTimeStatsStd15 0.0 6610.48109153 508.001663523\n",
      "windDedispTimeStatsMax0 -4107.50927734 9515.87402344 584.539303514\n",
      "windDedispTimeStatsMax1 -1302.98339844 7338.38378906 540.686044683\n",
      "windDedispTimeStatsMax2 -2983.08496094 18531.984375 562.697915563\n",
      "windDedispTimeStatsMax3 -3616.38525391 12387.3398438 541.416186347\n",
      "windDedispTimeStatsMax4 -7663.75585938 10331.5068359 539.147126887\n",
      "windDedispTimeStatsMax5 -1149.09277344 18983.375 571.76267559\n",
      "windDedispTimeStatsMax6 -6188.10009766 15923.2167969 569.869259672\n",
      "windDedispTimeStatsMax7 -4408.91552734 12662.2431641 580.695170613\n",
      "windDedispTimeStatsMax8 -1010.27685547 17299.1738281 581.720098303\n",
      "windDedispTimeStatsMax9 -1252.38598633 12262.2675781 554.568873216\n",
      "windDedispTimeStatsMax10 -1170.67138672 15373.4091797 570.393849525\n",
      "windDedispTimeStatsMax11 -999.180664062 12943.4160156 555.535285835\n",
      "windDedispTimeStatsMax12 -967.302001953 15135.0117188 569.540900231\n",
      "windDedispTimeStatsMax13 -894.917480469 16169.0390625 609.044549779\n",
      "windDedispTimeStatsMax14 -3295.52050781 10376.1933594 609.826239462\n",
      "windDedispTimeStatsMax15 -1682.06152344 19930.2890625 985.84592364\n",
      "windDedispTimeStatsMin0 -12673.8535156 1712.37353516 598.561718572\n",
      "windDedispTimeStatsMin1 -12048.4267578 880.971679688 587.226970021\n",
      "windDedispTimeStatsMin2 -15904.5917969 1123.80859375 617.162186211\n",
      "windDedispTimeStatsMin3 -12406.1533203 1039.88806152 636.432731061\n",
      "windDedispTimeStatsMin4 -12589.7001953 1430.22705078 676.729358381\n",
      "windDedispTimeStatsMin5 -14515.2060547 1470.52099609 603.426248701\n",
      "windDedispTimeStatsMin6 -13606.765625 1337.15625 625.503270186\n",
      "windDedispTimeStatsMin7 -13173.8984375 916.908203125 628.068579184\n",
      "windDedispTimeStatsMin8 -11938.5644531 1516.54345703 602.459204613\n",
      "windDedispTimeStatsMin9 -12401.8984375 1806.03417969 682.972271395\n",
      "windDedispTimeStatsMin10 -10057.9248047 1378.16113281 570.180882154\n",
      "windDedispTimeStatsMin11 -11391.1357422 1340.35839844 592.336161216\n",
      "windDedispTimeStatsMin12 -12623.2724609 1378.35498047 612.556638635\n",
      "windDedispTimeStatsMin13 -12926.4941406 1965.12402344 616.006568461\n",
      "windDedispTimeStatsMin14 -15753.5117188 5266.56005859 661.668842761\n",
      "windDedispTimeStatsMin15 -13073.0488281 1342.13867188 1249.55651998\n",
      "windDedispTimeStatsSnr0 -9.09977945273 18.9576027228 1.66331014919\n",
      "windDedispTimeStatsSnr1 -7.60216824298 17.4980208463 1.62234124421\n",
      "windDedispTimeStatsSnr2 -8.063559005 17.8956255428 1.62336009126\n",
      "windDedispTimeStatsSnr3 -10.1495534907 15.4509602604 1.63339986473\n",
      "windDedispTimeStatsSnr4 -11.0903535907 18.8868209803 1.6196282465\n",
      "windDedispTimeStatsSnr5 -6.92389962613 17.2712789735 1.63616903597\n",
      "windDedispTimeStatsSnr6 -7.09223813346 16.1695734804 1.5870653126\n",
      "windDedispTimeStatsSnr7 -6.32924871276 17.7079406334 1.57696390593\n",
      "windDedispTimeStatsSnr8 -7.71159586694 18.1058463949 1.66926824992\n",
      "windDedispTimeStatsSnr9 -6.46416623727 17.1155781484 1.58866839233\n",
      "windDedispTimeStatsSnr10 -5.54373290374 17.7861497907 1.59397455229\n",
      "windDedispTimeStatsSnr11 -8.52782611371 16.5322827788 1.6306789998\n",
      "windDedispTimeStatsSnr12 -5.95637879814 20.5369117104 1.54558342127\n",
      "windDedispTimeStatsSnr13 -6.07153422403 16.3853932948 1.6065707376\n",
      "windDedispTimeStatsSnr14 -8.900423989 16.7065489499 1.68308027074\n",
      "windDedispTimeStatsSnr15 -7.08542880386 20.5876405515 1.65872289584\n",
      "windDedispTimeStatsMean0 -6899.90917969 7137.66796875 255.041818691\n",
      "windDedispTimeStatsMean1 -4867.97265625 2190.75927734 226.945031569\n",
      "windDedispTimeStatsMean2 -4451.39257812 2485.90039062 233.240949119\n",
      "windDedispTimeStatsMean3 -7377.52636719 2504.92724609 270.497355496\n",
      "windDedispTimeStatsMean4 -8980.453125 2324.94799805 274.116661612\n",
      "windDedispTimeStatsMean5 -3972.21484375 4393.43408203 224.533478516\n",
      "windDedispTimeStatsMean6 -9315.86523438 4728.5546875 238.308137799\n",
      "windDedispTimeStatsMean7 -8509.03808594 2746.38935849 241.723134152\n",
      "windDedispTimeStatsMean8 -5588.32714844 6933.78857422 240.698075223\n",
      "windDedispTimeStatsMean9 -5955.81640625 2666.18139648 236.18683776\n",
      "windDedispTimeStatsMean10 -3261.77441406 4923.7578125 220.129007932\n",
      "windDedispTimeStatsMean11 -3971.3515625 2135.91259766 221.048653275\n",
      "windDedispTimeStatsMean12 -5129.89111328 3048.61914062 239.536466985\n",
      "windDedispTimeStatsMean13 -4924.54199219 5055.21875 273.553585471\n",
      "windDedispTimeStatsMean14 -8517.70898438 7211.52832031 348.684542159\n",
      "windDedispTimeStatsMean15 -6393.93359375 6100.04101562 594.270549871\n",
      "pixelsMax00 -53.5594825745 288.825500488 41.3531910913\n",
      "pixelsMax01 -15.076748848 268.584747314 36.3891181363\n",
      "pixelsMax02 -36.3486289978 1050.48168945 41.4322423898\n",
      "pixelsMax03 -23.4307804108 425.801269531 46.6658634868\n",
      "pixelsMax10 -54.0473976135 282.05456543 40.832405356\n",
      "pixelsMax11 -19.9328174591 310.181671143 35.5210028028\n",
      "pixelsMax12 -35.9993362427 1047.18005371 40.8390142302\n"
     ]
    },
    {
     "name": "stdout",
     "output_type": "stream",
     "text": [
      "pixelsMax13 -22.8797588348 450.725006104 46.3924568073\n",
      "pixelsMax20 -53.5337677002 283.089782715 40.8251187157\n",
      "pixelsMax21 -19.0611896515 293.414276123 35.7069742617\n",
      "pixelsMax22 -36.2150497437 1053.2154541 41.0400596338\n",
      "pixelsMax23 -23.3056411743 411.588195801 46.4270973972\n",
      "pixelsMax30 -54.1617355347 281.867675781 40.935575157\n",
      "pixelsMax31 -18.9161815643 349.350402832 35.6163553819\n",
      "pixelsMax32 -35.9291915894 1055.77722168 40.8041529768\n",
      "pixelsMax33 -22.8020496368 402.516693115 46.4068010771\n",
      "pixelsMax40 -55.2150764465 284.620483398 40.9806287441\n",
      "pixelsMax41 -17.5338668823 335.453216553 35.9503859367\n",
      "pixelsMax42 -36.1824302673 1047.36437988 41.0783714657\n",
      "pixelsMax43 -22.7590503693 370.587432861 46.7201739977\n",
      "pixelsMax50 -52.4001159668 284.637634277 41.1593885731\n",
      "pixelsMax51 -19.9815731049 306.741516113 36.4807785542\n",
      "pixelsMax52 -36.2249908447 1045.46972656 41.780893022\n",
      "pixelsMax53 -22.935256958 336.706573486 47.2734853384\n",
      "pixelsMax60 -54.4544715881 283.901855469 41.2599227023\n",
      "pixelsMax61 -19.1946697235 282.802734375 36.5046268494\n",
      "pixelsMax62 -36.1987113953 1035.22766113 41.5482926596\n",
      "pixelsMax63 -23.3385238647 336.955718994 47.0949594009\n",
      "pixelsMax70 -53.4113693237 282.858551025 41.2565895541\n",
      "pixelsMax71 -20.7069664001 292.927703857 36.6961022018\n",
      "pixelsMax72 -36.54114151 1032.47021484 41.6602345907\n",
      "pixelsMax73 -23.1489391327 346.052764893 47.2798009662\n",
      "pixelsMax80 -53.9123268127 280.578826904 41.0759681675\n",
      "pixelsMax81 -19.5317783356 296.045135498 36.2937501247\n",
      "pixelsMax82 -36.0308227539 1024.79174805 41.4275952504\n",
      "pixelsMax83 -22.8599243164 337.959411621 47.2588030577\n",
      "pixelsMax90 -53.8054504395 293.309265137 41.4262517622\n",
      "pixelsMax91 -19.1142196655 260.722473145 36.4501997777\n",
      "pixelsMax92 -36.0944900513 1023.88208008 41.2859814919\n",
      "pixelsMax93 -22.882604599 1197.40820312 48.1172121929\n",
      "pixelsMax100 -52.644569397 282.417449951 41.2496605289\n",
      "pixelsMax101 -21.3142986298 282.310943604 36.4976174077\n",
      "pixelsMax102 -36.3843574524 1025.4831543 41.274028296\n",
      "pixelsMax103 -22.6777648926 1195.99511719 48.0978180079\n",
      "pixelsMax110 -53.0979385376 283.76083374 40.5773040139\n",
      "pixelsMax111 -19.5010890961 285.402770996 35.8915174075\n",
      "pixelsMax112 -35.9389572144 1023.6184082 41.0064480838\n",
      "pixelsMax113 -22.7999744415 1195.84265137 47.1368774625\n",
      "pixelsMax120 -52.5017662048 282.876190186 40.8162905078\n",
      "pixelsMax121 -20.0798454285 298.80581665 36.1586288682\n",
      "pixelsMax122 -36.0262145996 1017.78448486 41.0269686721\n",
      "pixelsMax123 -22.8539218903 1193.66479492 47.4929538692\n",
      "pixelsMax130 -52.1700401306 288.825500488 40.5868002604\n",
      "pixelsMax131 -18.8320045471 267.185333252 35.9060211711\n",
      "pixelsMax132 -36.3554191589 1018.62365723 41.2002439559\n",
      "pixelsMax133 -23.0124187469 1195.0736084 47.433945404\n",
      "pixelsMax140 -51.2381134033 280.974822998 40.1583380457\n",
      "pixelsMax141 -19.1209716797 310.181671143 34.9884457393\n",
      "pixelsMax142 -36.2476234436 1038.34069824 40.4701874907\n",
      "pixelsMax143 -23.0437335968 332.259124756 45.6710954703\n",
      "pixelsMax150 -49.4090080261 288.258422852 39.8562771885\n",
      "pixelsMax151 -19.7142028809 275.369842529 33.9682926776\n",
      "pixelsMax152 -35.6726379395 1046.61791992 39.8574241092\n",
      "pixelsMax153 -22.8769168854 335.821075439 44.8995080631\n",
      "pixelsMin00 -253.88470459 39.7664604187 38.7657607794\n",
      "pixelsMin01 -217.64654541 44.5221099854 31.9400139844\n",
      "pixelsMin02 -253.339920044 40.9531898499 35.2627416006\n",
      "pixelsMin03 -271.802307129 52.5859832764 37.272892244\n",
      "pixelsMin10 -228.297134399 39.7963523865 38.4922602421\n",
      "pixelsMin11 -220.281173706 44.6319503784 31.6652887527\n",
      "pixelsMin12 -271.418548584 40.6683197021 34.4597009812\n",
      "pixelsMin13 -282.498931885 52.2175369263 36.67329364\n",
      "pixelsMin20 -229.139389038 39.9979362488 38.4986378319\n",
      "pixelsMin21 -220.281173706 44.7039146423 31.7329693662\n",
      "pixelsMin22 -279.062927246 41.092124939 34.6199672877\n",
      "pixelsMin23 -276.300231934 52.6717071533 36.8624739534\n",
      "pixelsMin30 -232.699478149 39.6168670654 38.3447851676\n",
      "pixelsMin31 -207.862289429 44.6771087646 31.7011209826\n",
      "pixelsMin32 -286.267456055 39.3873786926 34.6827700285\n",
      "pixelsMin33 -238.785919189 50.4513931274 37.0538118898\n",
      "pixelsMin40 -239.208251953 39.9265365601 38.7156975389\n",
      "pixelsMin41 -206.433822632 44.3198661804 32.0319566462\n",
      "pixelsMin42 -281.683227539 40.116771698 34.9224082019\n",
      "pixelsMin43 -239.591506958 51.819858551 37.296067603\n",
      "pixelsMin50 -265.479553223 39.8890609741 39.0437516908\n",
      "pixelsMin51 -250.093521118 44.3699188232 32.0651571663\n",
      "pixelsMin52 -283.253936768 39.5751647949 35.2703721266\n",
      "pixelsMin53 -241.935424805 50.1072235107 37.8859282859\n",
      "pixelsMin60 -229.139389038 39.5715065002 38.9073149984\n",
      "pixelsMin61 -250.093521118 44.4222221375 31.9944270383\n",
      "pixelsMin62 -272.242523193 41.4309425354 35.1332715475\n",
      "pixelsMin63 -238.785919189 49.3767433167 37.7100047787\n",
      "pixelsMin70 -249.222640991 39.7708702087 38.9058183331\n",
      "pixelsMin71 -250.093521118 44.2734642029 32.0140696519\n",
      "pixelsMin72 -231.827865601 42.0522994995 34.9416160318\n",
      "pixelsMin73 -242.182266235 55.8054885864 37.7452306082\n",
      "pixelsMin80 -220.238342285 50.6740493774 38.772421688\n",
      "pixelsMin81 -250.093521118 44.5404243469 31.9046993384\n",
      "pixelsMin82 -249.735046387 40.4487876892 35.0044785694\n",
      "pixelsMin83 -240.714599609 48.1562080383 37.5536946798\n",
      "pixelsMin90 -243.622833252 48.3074111938 38.6514036433\n",
      "pixelsMin91 -250.093521118 44.5571060181 31.9253347684\n",
      "pixelsMin92 -256.436920166 40.5332069397 35.2710862983\n",
      "pixelsMin93 -238.785919189 50.7974891663 37.5301069362\n",
      "pixelsMin100 -237.804428101 48.5784950256 38.4044295731\n",
      "pixelsMin101 -217.64654541 44.6409721375 31.5484839615\n",
      "pixelsMin102 -260.55178833 38.7477798462 35.1198208146\n",
      "pixelsMin103 -238.785919189 56.2878570557 37.1536437628\n",
      "pixelsMin110 -250.623458862 47.6340637207 38.07799713\n",
      "pixelsMin111 -217.64654541 44.4709014893 31.3294986184\n",
      "pixelsMin112 -255.336135864 40.8091087341 34.6886705451\n",
      "pixelsMin113 -238.785919189 52.1324501038 36.8067526353\n",
      "pixelsMin120 -228.297134399 48.7691421509 38.2170982087\n",
      "pixelsMin121 -217.64654541 44.6574821472 31.6468400332\n",
      "pixelsMin122 -257.261077881 42.2917442322 34.5673916296\n",
      "pixelsMin123 -238.785919189 48.1123123169 37.0447447194\n",
      "pixelsMin130 -239.272521973 40.2021827698 38.195674991\n",
      "pixelsMin131 -217.64654541 44.6054992676 31.4874698641\n",
      "pixelsMin132 -254.248840332 38.6642723083 34.3955649067\n",
      "pixelsMin133 -238.785919189 49.5528907776 36.4042501811\n",
      "pixelsMin140 -228.297134399 39.5721931458 37.8499156581\n",
      "pixelsMin141 -217.64654541 44.7788047791 31.2846673267\n",
      "pixelsMin142 -254.248840332 41.6731414795 34.0139544795\n",
      "pixelsMin143 -238.785919189 49.1983108521 35.9363039699\n",
      "pixelsMin150 -230.125061035 39.5037536621 37.3942718233\n",
      "pixelsMin151 -217.64654541 44.5561752319 31.0505824963\n",
      "pixelsMin152 -229.230514526 39.7446022034 33.0407777362\n",
      "pixelsMin153 -238.785919189 48.7958984375 35.3344763211\n",
      "pixelsMean00 -94.3881378174 75.6395874023 28.4295616058\n",
      "pixelsMean01 -54.0297851562 67.5644607544 14.1720157001\n",
      "pixelsMean02 -87.1393127441 69.1679458618 17.1398049272\n",
      "pixelsMean03 -82.671875 94.9698944092 24.5630983034\n",
      "pixelsMean10 -94.5350646973 80.3671646118 28.3852731267\n",
      "pixelsMean11 -56.5116348267 67.5808563232 14.1577278179\n",
      "pixelsMean12 -87.1506500244 70.7692642212 17.1072916855\n",
      "pixelsMean13 -85.2367706299 95.1947174072 24.5423118001\n",
      "pixelsMean20 -94.9022979736 80.1033325195 28.3776300193\n",
      "pixelsMean21 -56.4524497986 67.5424957275 14.1677752214\n",
      "pixelsMean22 -87.128074646 70.3365783691 17.1149116286\n",
      "pixelsMean23 -83.9000549316 95.6289215088 24.5396789675\n",
      "pixelsMean30 -94.4668579102 80.0066223145 28.3545391898\n",
      "pixelsMean31 -59.759475708 67.5573730469 14.1531169255\n",
      "pixelsMean32 -87.0754394531 70.0237960815 17.0944758156\n",
      "pixelsMean33 -81.5088882446 115.766540527 24.5336028707\n",
      "pixelsMean40 -99.7452468872 80.0066223145 28.3465442937\n",
      "pixelsMean41 -56.4588775635 67.5532836914 14.1659812474\n",
      "pixelsMean42 -87.1640396118 69.440071106 17.0912417629\n",
      "pixelsMean43 -80.9936828613 99.5746612549 24.5334385526\n",
      "pixelsMean50 -96.2431335449 80.0066223145 28.3130854249\n",
      "pixelsMean51 -58.3801040649 67.5438156128 14.1884038711\n",
      "pixelsMean52 -87.1338043213 70.4412994385 17.1046234957\n",
      "pixelsMean53 -80.9936828613 106.805282593 24.5109529721\n",
      "pixelsMean60 -94.2139129639 80.0066223145 28.278527766\n",
      "pixelsMean61 -61.4410438538 67.5480270386 14.1790568252\n",
      "pixelsMean62 -87.1272125244 69.1467285156 17.0886496866\n",
      "pixelsMean63 -80.9936828613 111.841560364 24.4757225526\n",
      "pixelsMean70 -97.6427993774 78.9673614502 28.2357803552\n",
      "pixelsMean71 -63.5237884521 67.5280303955 14.1719603108\n",
      "pixelsMean72 -87.1350860596 69.4628982544 17.0731804506\n",
      "pixelsMean73 -80.9936828613 114.576202393 24.4405671555\n",
      "pixelsMean80 -97.9010391235 74.7031936646 28.2359336409\n",
      "pixelsMean81 -64.5571136475 67.5396575928 14.1886566518\n",
      "pixelsMean82 -87.1393432617 69.8662796021 17.083876316\n",
      "pixelsMean83 -80.9936828613 116.046989441 24.4524129772\n",
      "pixelsMean90 -95.3305282593 74.7697296143 28.2253005597\n",
      "pixelsMean91 -65.7722320557 67.5350570679 14.2008883517\n",
      "pixelsMean92 -87.1444396973 70.216545105 17.0954450847\n",
      "pixelsMean93 -80.9936828613 118.223052979 24.4514432682\n",
      "pixelsMean100 -95.4175186157 76.2949066162 28.1624308271\n",
      "pixelsMean101 -65.9726104736 67.5543746948 14.2203176204\n",
      "pixelsMean102 -87.1279144287 70.4343719482 17.1014758077\n",
      "pixelsMean103 -80.9936828613 119.502197266 24.3885010421\n",
      "pixelsMean110 -95.6433105469 76.2903747559 28.1300847612\n",
      "pixelsMean111 -57.4342193604 67.5510101318 14.212164097\n",
      "pixelsMean112 -87.1286468506 70.0899963379 17.0908213821\n",
      "pixelsMean113 -80.9936828613 104.909072876 24.3635741857\n",
      "pixelsMean120 -94.2345199585 76.2685394287 28.1239681595\n",
      "pixelsMean121 -56.5179519653 67.5433807373 14.2106610779\n",
      "pixelsMean122 -87.1288299561 69.9048614502 17.092454222\n",
      "pixelsMean123 -80.9936828613 96.393081665 24.3459506938\n",
      "pixelsMean130 -93.8371124268 76.3302078247 28.0883512454\n",
      "pixelsMean131 -56.6605186462 67.5477218628 14.22833541\n",
      "pixelsMean132 -87.1338653564 69.1628875732 17.0854321536\n",
      "pixelsMean133 -80.9936828613 94.4626464844 24.3156261882\n",
      "pixelsMean140 -94.7389373779 73.3723831177 27.9927579241\n",
      "pixelsMean141 -56.7756729126 67.5662612915 14.217662217\n",
      "pixelsMean142 -87.1346893311 69.7929992676 17.0488282893\n",
      "pixelsMean143 -80.9936828613 94.0192871094 24.27973228\n",
      "pixelsMean150 -94.7681732178 74.722442627 28.0121376853\n",
      "pixelsMean151 -56.814414978 67.5547637939 14.2369919525\n",
      "pixelsMean152 -87.1380386353 69.8392028809 17.0824938455\n",
      "pixelsMean153 -80.9936828613 89.0939178467 24.2735763674\n",
      "DMin 0.0 0.0 0.0\n",
      "relMJDmax 0.0 9.5554998552e-05 3.10058579226e-05\n",
      "relMJDmean -3.63797880709e-11 9.07058129087e-05 1.86929275961e-05\n",
      "relMJDmedian 0.0 9.1916990641e-05 2.00875725459e-05\n"
     ]
    }
   ],
   "source": [
    "for col in labelledDf:\n",
    "    if labelledDf[col].dtype == object:\n",
    "        print col, labelledDf[col].min(), labelledDf[col].max() \n",
    "    else: \n",
    "        print col, labelledDf[col].min(), labelledDf[col].max(), labelledDf[col].std()"
   ]
  },
  {
   "cell_type": "markdown",
   "metadata": {},
   "source": [
    "**Apply Direct Data Cleaning Filters**"
   ]
  },
  {
   "cell_type": "code",
   "execution_count": 12,
   "metadata": {
    "collapsed": true
   },
   "outputs": [],
   "source": [
    "# # Check that data during March 2017 has been removed\n",
    "# for row in labelledDf.iterrows():\n",
    "#     idx, data = row\n",
    "#     if (data['globtsStatsMean'] < -3e3) or (data['globtsStatsMin'] < -3e3): \n",
    "#         print idx\n",
    "\n",
    "# for row in unlabelledDf.iterrows():\n",
    "#     idx, data = row\n",
    "#     if (data['globtsStatsMean'] < -3e3) or (data['globtsStatsMin'] < -3e3): \n",
    "#         print idx\n",
    "        \n",
    "# # Check that all events which overflow have been dropped\n",
    "# for row in labelledDf.iterrows():\n",
    "#     idx, data = row\n",
    "#     if data['ofCount'] > 0.: \n",
    "#         print idx\n",
    "\n",
    "# for row in unlabelledDf.iterrows():\n",
    "#     idx, data = row\n",
    "#     if data['ofCount'] > 0.: \n",
    "#         print idx       "
   ]
  },
  {
   "cell_type": "code",
   "execution_count": 13,
   "metadata": {},
   "outputs": [
    {
     "name": "stdout",
     "output_type": "stream",
     "text": [
      "(13419, 410)\n",
      "(58212, 410)\n"
     ]
    }
   ],
   "source": [
    "#(n timeseries, m features)\n",
    "print labelledDf.shape\n",
    "print unlabelledDf.shape"
   ]
  },
  {
   "cell_type": "markdown",
   "metadata": {},
   "source": [
    "**Select out the labels**"
   ]
  },
  {
   "cell_type": "code",
   "execution_count": 14,
   "metadata": {
    "collapsed": true
   },
   "outputs": [],
   "source": [
    "labels = labelledDf['Label'].values"
   ]
  },
  {
   "cell_type": "markdown",
   "metadata": {},
   "source": [
    "**Drop the meta-information columns**"
   ]
  },
  {
   "cell_type": "code",
   "execution_count": 15,
   "metadata": {},
   "outputs": [
    {
     "data": {
      "text/plain": [
       "Index([u'datfile', u'Beam', u'TSID', u'Buffer', u'MJDstart', u'bestDM',\n",
       "       u'bestSNR', u'BinFactor', u'Events', u'DMmax',\n",
       "       ...\n",
       "       u'pixelsMean142', u'pixelsMean143', u'pixelsMean150', u'pixelsMean151',\n",
       "       u'pixelsMean152', u'pixelsMean153', u'DMin', u'relMJDmax',\n",
       "       u'relMJDmean', u'relMJDmedian'],\n",
       "      dtype='object', length=410)"
      ]
     },
     "execution_count": 15,
     "metadata": {},
     "output_type": "execute_result"
    }
   ],
   "source": [
    "labelledDf.columns #list column labels"
   ]
  },
  {
   "cell_type": "code",
   "execution_count": 16,
   "metadata": {
    "collapsed": true
   },
   "outputs": [],
   "source": [
    "featureDf = labelledDf.drop(['Beam', 'Buffer', 'datfile', 'TSID', 'Label', 'predictLabel', 'filterbank'], axis=1)\n",
    "unlblfeatureDf = unlabelledDf.drop(['Beam', 'Buffer', 'TSID', 'Label', 'datfile', 'predictLabel', 'filterbank'], axis=1)"
   ]
  },
  {
   "cell_type": "markdown",
   "metadata": {},
   "source": [
    "#### Drop Features that are not useful"
   ]
  },
  {
   "cell_type": "code",
   "execution_count": 17,
   "metadata": {
    "collapsed": true
   },
   "outputs": [],
   "source": [
    "featureDf = featureDf.drop(['MJDmax', 'MJDmean', 'MJDmedian', 'MJDmin'], axis=1)\n",
    "unlblfeatureDf = unlblfeatureDf.drop(['MJDmax', 'MJDmean', 'MJDmedian', 'MJDmin'], axis=1)\n",
    "\n",
    "# featureDf.replace([np.inf, -np.inf], np.nan)\n",
    "# unlblfeatureDf.replace([np.inf, -np.inf], np.nan)\n",
    "\n",
    "\n",
    "# featureDf = featureDf.fillna(value=-1)\n",
    "# unlblfeatureDf= unlblfeatureDf.fillna(value=-1)\n",
    "\n",
    "# print featureDf.isnull().values.any()"
   ]
  },
  {
   "cell_type": "code",
   "execution_count": 18,
   "metadata": {},
   "outputs": [
    {
     "data": {
      "text/plain": [
       "Index([u'MJDstart', u'bestDM', u'bestSNR', u'BinFactor', u'Events', u'DMmax',\n",
       "       u'DMmin', u'DMmean', u'DMmedian', u'DMstd',\n",
       "       ...\n",
       "       u'pixelsMean142', u'pixelsMean143', u'pixelsMean150', u'pixelsMean151',\n",
       "       u'pixelsMean152', u'pixelsMean153', u'DMin', u'relMJDmax',\n",
       "       u'relMJDmean', u'relMJDmedian'],\n",
       "      dtype='object', length=399)"
      ]
     },
     "execution_count": 18,
     "metadata": {},
     "output_type": "execute_result"
    }
   ],
   "source": [
    "featureDf.columns"
   ]
  },
  {
   "cell_type": "markdown",
   "metadata": {},
   "source": [
    "### Pre-Processing\n",
    "\n",
    "Prepare the features for model building: outliers (inf, NaN) need to be replaces, the features need to be scaled to zero mean, and unity variance."
   ]
  },
  {
   "cell_type": "code",
   "execution_count": 19,
   "metadata": {
    "collapsed": true
   },
   "outputs": [],
   "source": [
    "import sklearn.preprocessing"
   ]
  },
  {
   "cell_type": "markdown",
   "metadata": {},
   "source": [
    "**Convert feature dataframe to 2-D array of floats**"
   ]
  },
  {
   "cell_type": "code",
   "execution_count": 20,
   "metadata": {
    "collapsed": true
   },
   "outputs": [],
   "source": [
    "featuresArr = featureDf.values.astype('float32')\n",
    "unlblfeaturesArr = unlblfeatureDf.values.astype('float32')\n",
    "preProcLabels = labels.copy()"
   ]
  },
  {
   "cell_type": "code",
   "execution_count": 25,
   "metadata": {},
   "outputs": [
    {
     "name": "stderr",
     "output_type": "stream",
     "text": [
      "/home/inigo/anaconda2/lib/python2.7/site-packages/ipykernel_launcher.py:1: RuntimeWarning: invalid value encountered in greater\n",
      "  \"\"\"Entry point for launching an IPython kernel.\n"
     ]
    },
    {
     "name": "stdout",
     "output_type": "stream",
     "text": [
      "(59, 2)\n"
     ]
    }
   ],
   "source": [
    "print np.argwhere(unlblfeaturesArr > 1e+7).shape"
   ]
  },
  {
   "cell_type": "markdown",
   "metadata": {},
   "source": [
    "**Replace NaN and inf values**"
   ]
  },
  {
   "cell_type": "code",
   "execution_count": 21,
   "metadata": {},
   "outputs": [
    {
     "name": "stdout",
     "output_type": "stream",
     "text": [
      "[]\n",
      "[]\n",
      "[]\n",
      "(13419, 399) (13419,)\n",
      "1.80051e+06 -15904.6\n",
      "2.4457e+38 -1.78561e+38\n"
     ]
    }
   ],
   "source": [
    "featuresArr[featuresArr == -np.inf] = np.nan\n",
    "featuresArr[featuresArr == np.inf] = np.nan #set infinite values to nan (could u use .isinf more easily here?)\n",
    "print featuresArr[featuresArr == np.nan]\n",
    "\n",
    "unlblfeaturesArr[unlblfeaturesArr == -1. * np.inf] = np.nan\n",
    "unlblfeaturesArr[unlblfeaturesArr == np.inf] = np.nan\n",
    "print unlblfeaturesArr[unlblfeaturesArr == np.nan]\n",
    "\n",
    "#replace missing values with the mean along axis 0, np.nan values replaced with 'NaN' string\n",
    "imp = sklearn.preprocessing.Imputer(missing_values='NaN', strategy='mean', axis=0).fit(featuresArr)\n",
    "unlblimp = sklearn.preprocessing.Imputer(missing_values='NaN', strategy='mean', axis=0).fit(unlblfeaturesArr)#calibrate Imputer\n",
    "\n",
    "preProcFeats = imp.transform(featuresArr)\n",
    "unlblpreProcFeats = unlblimp.transform(unlblfeaturesArr)\n",
    "\n",
    "\n",
    "print preProcFeats.shape, preProcLabels.shape\n",
    "print np.amax(preProcFeats), np.amin(preProcFeats)\n",
    "print np.amax(unlblpreProcFeats), np.amin(unlblpreProcFeats)"
   ]
  },
  {
   "cell_type": "markdown",
   "metadata": {},
   "source": [
    "**Scale Features**\n",
    "\n",
    "Robust scaling uses a median filter, this is better for non-Gaussian distributions"
   ]
  },
  {
   "cell_type": "code",
   "execution_count": 22,
   "metadata": {
    "scrolled": true
   },
   "outputs": [
    {
     "name": "stdout",
     "output_type": "stream",
     "text": [
      "(13419, 399)\n",
      "(58212, 399)\n"
     ]
    }
   ],
   "source": [
    "rScale = sklearn.preprocessing.RobustScaler().fit(preProcFeats)\n",
    "#print rScale.scale_\n",
    "#print rScale.center_\n",
    "\n",
    "preProcFeats = rScale.transform(preProcFeats)\n",
    "\n",
    "print preProcFeats.shape\n",
    "\n",
    "rScale = sklearn.preprocessing.RobustScaler().fit(unlblpreProcFeats)\n",
    "#print rScale.scale_\n",
    "#print rScale.center_\n",
    "\n",
    "unlblpreProcFeats = rScale.transform(unlblpreProcFeats)\n",
    "\n",
    "print unlblpreProcFeats.shape"
   ]
  },
  {
   "cell_type": "code",
   "execution_count": 23,
   "metadata": {
    "scrolled": true
   },
   "outputs": [
    {
     "name": "stdout",
     "output_type": "stream",
     "text": [
      "5856.99 -222661.0\n",
      "2.44046e+38 -1.78178e+38\n"
     ]
    }
   ],
   "source": [
    "print np.amax(preProcFeats), np.amin(preProcFeats)\n",
    "print np.amax(unlblpreProcFeats), np.amin(unlblpreProcFeats)"
   ]
  },
  {
   "cell_type": "markdown",
   "metadata": {},
   "source": [
    "#### Write important dataframes/arrays to files"
   ]
  },
  {
   "cell_type": "code",
   "execution_count": 24,
   "metadata": {
    "collapsed": true
   },
   "outputs": [],
   "source": [
    "np.save('./processed.files/labelled/features', preProcFeats)\n",
    "np.save('./processed.files/labelled/labels', preProcLabels)\n",
    "featureDf.to_pickle('./processed.files/labelled/featureDf')\n",
    "labelledDf.to_pickle('./processed.files/labelled/labelledDf')\n",
    "\n",
    "np.save('./processed.files/raw/features', unlblpreProcFeats)\n",
    "unlblfeatureDf.to_pickle('./processed.files/raw/featureDf')\n",
    "unlabelledDf.to_pickle('./processed.files/raw/unlabelledDf')"
   ]
  }
 ],
 "metadata": {
  "kernelspec": {
   "display_name": "Python 2",
   "language": "python",
   "name": "python2"
  },
  "language_info": {
   "codemirror_mode": {
    "name": "ipython",
    "version": 2
   },
   "file_extension": ".py",
   "mimetype": "text/x-python",
   "name": "python",
   "nbconvert_exporter": "python",
   "pygments_lexer": "ipython2",
   "version": "2.7.13"
  }
 },
 "nbformat": 4,
 "nbformat_minor": 2
}
